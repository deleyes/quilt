{
 "cells": [
  {
   "cell_type": "markdown",
   "id": "a66eae72-4e44-4730-a576-cd9c9a75976e",
   "metadata": {},
   "source": [
    "# Reference Materials\n",
    "- Documentation: https://docs.quiltdata.com/\n",
    "- Quilt Web Portal: https://quiltpoc.ecicl.cloud.syngenta.org/\n"
   ]
  },
  {
   "cell_type": "code",
   "id": "b694ac9b-eb0e-417d-9fb7-a774a4d7f4a7",
   "metadata": {
    "ExecuteTime": {
     "end_time": "2024-09-11T08:13:06.727604Z",
     "start_time": "2024-09-11T08:13:05.908439Z"
    }
   },
   "source": [
    "!pip install quilt3"
   ],
   "outputs": [
    {
     "name": "stdout",
     "output_type": "stream",
     "text": [
      "Requirement already satisfied: quilt3 in ./venv/lib/python3.10/site-packages (6.0.0)\r\n",
      "Requirement already satisfied: platformdirs>=2 in ./venv/lib/python3.10/site-packages (from quilt3) (4.3.2)\r\n",
      "Requirement already satisfied: jsonlines==1.2.0 in ./venv/lib/python3.10/site-packages (from quilt3) (1.2.0)\r\n",
      "Requirement already satisfied: PyYAML>=5.1 in ./venv/lib/python3.10/site-packages (from quilt3) (6.0.2)\r\n",
      "Requirement already satisfied: tenacity!=8.4.0,>=5.1.1 in ./venv/lib/python3.10/site-packages (from quilt3) (9.0.0)\r\n",
      "Requirement already satisfied: tqdm>=4.32 in ./venv/lib/python3.10/site-packages (from quilt3) (4.66.5)\r\n",
      "Requirement already satisfied: jsonschema<5,>=3 in ./venv/lib/python3.10/site-packages (from quilt3) (4.23.0)\r\n",
      "Requirement already satisfied: requests>=2.12.4 in ./venv/lib/python3.10/site-packages (from quilt3) (2.32.3)\r\n",
      "Requirement already satisfied: requests-futures==1.0.0 in ./venv/lib/python3.10/site-packages (from quilt3) (1.0.0)\r\n",
      "Requirement already satisfied: pydantic<3.0.0,>=2.0.0 in ./venv/lib/python3.10/site-packages (from quilt3) (2.9.1)\r\n",
      "Requirement already satisfied: boto3>=1.21.7 in ./venv/lib/python3.10/site-packages (from quilt3) (1.35.15)\r\n",
      "Requirement already satisfied: six in ./venv/lib/python3.10/site-packages (from jsonlines==1.2.0->quilt3) (1.16.0)\r\n",
      "Requirement already satisfied: botocore<1.36.0,>=1.35.15 in ./venv/lib/python3.10/site-packages (from boto3>=1.21.7->quilt3) (1.35.15)\r\n",
      "Requirement already satisfied: jmespath<2.0.0,>=0.7.1 in ./venv/lib/python3.10/site-packages (from boto3>=1.21.7->quilt3) (1.0.1)\r\n",
      "Requirement already satisfied: s3transfer<0.11.0,>=0.10.0 in ./venv/lib/python3.10/site-packages (from boto3>=1.21.7->quilt3) (0.10.2)\r\n",
      "Requirement already satisfied: rpds-py>=0.7.1 in ./venv/lib/python3.10/site-packages (from jsonschema<5,>=3->quilt3) (0.20.0)\r\n",
      "Requirement already satisfied: attrs>=22.2.0 in ./venv/lib/python3.10/site-packages (from jsonschema<5,>=3->quilt3) (24.2.0)\r\n",
      "Requirement already satisfied: referencing>=0.28.4 in ./venv/lib/python3.10/site-packages (from jsonschema<5,>=3->quilt3) (0.35.1)\r\n",
      "Requirement already satisfied: jsonschema-specifications>=2023.03.6 in ./venv/lib/python3.10/site-packages (from jsonschema<5,>=3->quilt3) (2023.12.1)\r\n",
      "Requirement already satisfied: pydantic-core==2.23.3 in ./venv/lib/python3.10/site-packages (from pydantic<3.0.0,>=2.0.0->quilt3) (2.23.3)\r\n",
      "Requirement already satisfied: annotated-types>=0.6.0 in ./venv/lib/python3.10/site-packages (from pydantic<3.0.0,>=2.0.0->quilt3) (0.7.0)\r\n",
      "Requirement already satisfied: typing-extensions>=4.6.1 in ./venv/lib/python3.10/site-packages (from pydantic<3.0.0,>=2.0.0->quilt3) (4.12.2)\r\n",
      "Requirement already satisfied: certifi>=2017.4.17 in ./venv/lib/python3.10/site-packages (from requests>=2.12.4->quilt3) (2024.8.30)\r\n",
      "Requirement already satisfied: idna<4,>=2.5 in ./venv/lib/python3.10/site-packages (from requests>=2.12.4->quilt3) (3.8)\r\n",
      "Requirement already satisfied: charset-normalizer<4,>=2 in ./venv/lib/python3.10/site-packages (from requests>=2.12.4->quilt3) (3.3.2)\r\n",
      "Requirement already satisfied: urllib3<3,>=1.21.1 in ./venv/lib/python3.10/site-packages (from requests>=2.12.4->quilt3) (2.2.2)\r\n",
      "Requirement already satisfied: python-dateutil<3.0.0,>=2.1 in ./venv/lib/python3.10/site-packages (from botocore<1.36.0,>=1.35.15->boto3>=1.21.7->quilt3) (2.9.0.post0)\r\n",
      "\r\n",
      "\u001B[1m[\u001B[0m\u001B[34;49mnotice\u001B[0m\u001B[1;39;49m]\u001B[0m\u001B[39;49m A new release of pip available: \u001B[0m\u001B[31;49m22.2.2\u001B[0m\u001B[39;49m -> \u001B[0m\u001B[32;49m24.2\u001B[0m\r\n",
      "\u001B[1m[\u001B[0m\u001B[34;49mnotice\u001B[0m\u001B[1;39;49m]\u001B[0m\u001B[39;49m To update, run: \u001B[0m\u001B[32;49mpip install --upgrade pip\u001B[0m\r\n"
     ]
    }
   ],
   "execution_count": 1
  },
  {
   "cell_type": "code",
   "id": "9d412962",
   "metadata": {
    "ExecuteTime": {
     "end_time": "2024-09-11T08:13:12.638705Z",
     "start_time": "2024-09-11T08:13:12.311821Z"
    }
   },
   "source": [
    "import quilt3\n",
    "import os"
   ],
   "outputs": [],
   "execution_count": 2
  },
  {
   "cell_type": "code",
   "id": "1a5f747a-18f2-446a-8e1f-6503ca5c9599",
   "metadata": {
    "ExecuteTime": {
     "end_time": "2024-09-11T08:13:14.708423Z",
     "start_time": "2024-09-11T08:13:14.042711Z"
    }
   },
   "source": [
    "!pip show boto3"
   ],
   "outputs": [
    {
     "name": "stdout",
     "output_type": "stream",
     "text": [
      "Name: boto3\r\n",
      "Version: 1.35.15\r\n",
      "Summary: The AWS SDK for Python\r\n",
      "Home-page: https://github.com/boto/boto3\r\n",
      "Author: Amazon Web Services\r\n",
      "Author-email: \r\n",
      "License: Apache License 2.0\r\n",
      "Location: /Users/sdeleye/Code/quilt/venv/lib/python3.10/site-packages\r\n",
      "Requires: botocore, jmespath, s3transfer\r\n",
      "Required-by: quilt3\r\n"
     ]
    }
   ],
   "execution_count": 3
  },
  {
   "cell_type": "markdown",
   "id": "430fbeef-9ddb-4019-b556-b498529adf04",
   "metadata": {},
   "source": [
    "To establish HTTPS connection with server we need to explicitly specify SSL certificate"
   ]
  },
  {
   "cell_type": "code",
   "execution_count": 17,
   "id": "a8a3822f",
   "metadata": {},
   "outputs": [],
   "source": [
    "os.environ[\"REQUESTS_CA_BUNDLE\"] = \"cacert.pem\""
   ]
  },
  {
   "cell_type": "markdown",
   "id": "19d16f34-3265-42d0-9dcf-a299eae92a36",
   "metadata": {},
   "source": [
    "# 1. Quilt Configuration"
   ]
  },
  {
   "cell_type": "markdown",
   "id": "417c47b4-31e1-4e17-a335-fc3cd3bcfe55",
   "metadata": {},
   "source": [
    "Set registry URL"
   ]
  },
  {
   "cell_type": "code",
   "id": "bf9bcb4a",
   "metadata": {
    "ExecuteTime": {
     "end_time": "2024-09-11T08:17:20.858274Z",
     "start_time": "2024-09-11T08:17:20.145491Z"
    }
   },
   "source": [
    "quilt3.config(\"https://quiltpoc.ecicl.cloud.syngenta.org\")"
   ],
   "outputs": [
    {
     "ename": "SSLError",
     "evalue": "HTTPSConnectionPool(host='quiltpoc.ecicl.cloud.syngenta.org', port=443): Max retries exceeded with url: /config.json (Caused by SSLError(SSLCertVerificationError(1, '[SSL: CERTIFICATE_VERIFY_FAILED] certificate verify failed: self signed certificate in certificate chain (_ssl.c:997)')))",
     "output_type": "error",
     "traceback": [
      "\u001B[0;31m---------------------------------------------------------------------------\u001B[0m",
      "\u001B[0;31mSSLCertVerificationError\u001B[0m                  Traceback (most recent call last)",
      "File \u001B[0;32m~/Code/quilt/venv/lib/python3.10/site-packages/urllib3/connectionpool.py:466\u001B[0m, in \u001B[0;36mHTTPConnectionPool._make_request\u001B[0;34m(self, conn, method, url, body, headers, retries, timeout, chunked, response_conn, preload_content, decode_content, enforce_content_length)\u001B[0m\n\u001B[1;32m    465\u001B[0m \u001B[38;5;28;01mtry\u001B[39;00m:\n\u001B[0;32m--> 466\u001B[0m     \u001B[38;5;28;43mself\u001B[39;49m\u001B[38;5;241;43m.\u001B[39;49m\u001B[43m_validate_conn\u001B[49m\u001B[43m(\u001B[49m\u001B[43mconn\u001B[49m\u001B[43m)\u001B[49m\n\u001B[1;32m    467\u001B[0m \u001B[38;5;28;01mexcept\u001B[39;00m (SocketTimeout, BaseSSLError) \u001B[38;5;28;01mas\u001B[39;00m e:\n",
      "File \u001B[0;32m~/Code/quilt/venv/lib/python3.10/site-packages/urllib3/connectionpool.py:1095\u001B[0m, in \u001B[0;36mHTTPSConnectionPool._validate_conn\u001B[0;34m(self, conn)\u001B[0m\n\u001B[1;32m   1094\u001B[0m \u001B[38;5;28;01mif\u001B[39;00m conn\u001B[38;5;241m.\u001B[39mis_closed:\n\u001B[0;32m-> 1095\u001B[0m     \u001B[43mconn\u001B[49m\u001B[38;5;241;43m.\u001B[39;49m\u001B[43mconnect\u001B[49m\u001B[43m(\u001B[49m\u001B[43m)\u001B[49m\n\u001B[1;32m   1097\u001B[0m \u001B[38;5;66;03m# TODO revise this, see https://github.com/urllib3/urllib3/issues/2791\u001B[39;00m\n",
      "File \u001B[0;32m~/Code/quilt/venv/lib/python3.10/site-packages/urllib3/connection.py:652\u001B[0m, in \u001B[0;36mHTTPSConnection.connect\u001B[0;34m(self)\u001B[0m\n\u001B[1;32m    650\u001B[0m server_hostname_rm_dot \u001B[38;5;241m=\u001B[39m server_hostname\u001B[38;5;241m.\u001B[39mrstrip(\u001B[38;5;124m\"\u001B[39m\u001B[38;5;124m.\u001B[39m\u001B[38;5;124m\"\u001B[39m)\n\u001B[0;32m--> 652\u001B[0m sock_and_verified \u001B[38;5;241m=\u001B[39m \u001B[43m_ssl_wrap_socket_and_match_hostname\u001B[49m\u001B[43m(\u001B[49m\n\u001B[1;32m    653\u001B[0m \u001B[43m    \u001B[49m\u001B[43msock\u001B[49m\u001B[38;5;241;43m=\u001B[39;49m\u001B[43msock\u001B[49m\u001B[43m,\u001B[49m\n\u001B[1;32m    654\u001B[0m \u001B[43m    \u001B[49m\u001B[43mcert_reqs\u001B[49m\u001B[38;5;241;43m=\u001B[39;49m\u001B[38;5;28;43mself\u001B[39;49m\u001B[38;5;241;43m.\u001B[39;49m\u001B[43mcert_reqs\u001B[49m\u001B[43m,\u001B[49m\n\u001B[1;32m    655\u001B[0m \u001B[43m    \u001B[49m\u001B[43mssl_version\u001B[49m\u001B[38;5;241;43m=\u001B[39;49m\u001B[38;5;28;43mself\u001B[39;49m\u001B[38;5;241;43m.\u001B[39;49m\u001B[43mssl_version\u001B[49m\u001B[43m,\u001B[49m\n\u001B[1;32m    656\u001B[0m \u001B[43m    \u001B[49m\u001B[43mssl_minimum_version\u001B[49m\u001B[38;5;241;43m=\u001B[39;49m\u001B[38;5;28;43mself\u001B[39;49m\u001B[38;5;241;43m.\u001B[39;49m\u001B[43mssl_minimum_version\u001B[49m\u001B[43m,\u001B[49m\n\u001B[1;32m    657\u001B[0m \u001B[43m    \u001B[49m\u001B[43mssl_maximum_version\u001B[49m\u001B[38;5;241;43m=\u001B[39;49m\u001B[38;5;28;43mself\u001B[39;49m\u001B[38;5;241;43m.\u001B[39;49m\u001B[43mssl_maximum_version\u001B[49m\u001B[43m,\u001B[49m\n\u001B[1;32m    658\u001B[0m \u001B[43m    \u001B[49m\u001B[43mca_certs\u001B[49m\u001B[38;5;241;43m=\u001B[39;49m\u001B[38;5;28;43mself\u001B[39;49m\u001B[38;5;241;43m.\u001B[39;49m\u001B[43mca_certs\u001B[49m\u001B[43m,\u001B[49m\n\u001B[1;32m    659\u001B[0m \u001B[43m    \u001B[49m\u001B[43mca_cert_dir\u001B[49m\u001B[38;5;241;43m=\u001B[39;49m\u001B[38;5;28;43mself\u001B[39;49m\u001B[38;5;241;43m.\u001B[39;49m\u001B[43mca_cert_dir\u001B[49m\u001B[43m,\u001B[49m\n\u001B[1;32m    660\u001B[0m \u001B[43m    \u001B[49m\u001B[43mca_cert_data\u001B[49m\u001B[38;5;241;43m=\u001B[39;49m\u001B[38;5;28;43mself\u001B[39;49m\u001B[38;5;241;43m.\u001B[39;49m\u001B[43mca_cert_data\u001B[49m\u001B[43m,\u001B[49m\n\u001B[1;32m    661\u001B[0m \u001B[43m    \u001B[49m\u001B[43mcert_file\u001B[49m\u001B[38;5;241;43m=\u001B[39;49m\u001B[38;5;28;43mself\u001B[39;49m\u001B[38;5;241;43m.\u001B[39;49m\u001B[43mcert_file\u001B[49m\u001B[43m,\u001B[49m\n\u001B[1;32m    662\u001B[0m \u001B[43m    \u001B[49m\u001B[43mkey_file\u001B[49m\u001B[38;5;241;43m=\u001B[39;49m\u001B[38;5;28;43mself\u001B[39;49m\u001B[38;5;241;43m.\u001B[39;49m\u001B[43mkey_file\u001B[49m\u001B[43m,\u001B[49m\n\u001B[1;32m    663\u001B[0m \u001B[43m    \u001B[49m\u001B[43mkey_password\u001B[49m\u001B[38;5;241;43m=\u001B[39;49m\u001B[38;5;28;43mself\u001B[39;49m\u001B[38;5;241;43m.\u001B[39;49m\u001B[43mkey_password\u001B[49m\u001B[43m,\u001B[49m\n\u001B[1;32m    664\u001B[0m \u001B[43m    \u001B[49m\u001B[43mserver_hostname\u001B[49m\u001B[38;5;241;43m=\u001B[39;49m\u001B[43mserver_hostname_rm_dot\u001B[49m\u001B[43m,\u001B[49m\n\u001B[1;32m    665\u001B[0m \u001B[43m    \u001B[49m\u001B[43mssl_context\u001B[49m\u001B[38;5;241;43m=\u001B[39;49m\u001B[38;5;28;43mself\u001B[39;49m\u001B[38;5;241;43m.\u001B[39;49m\u001B[43mssl_context\u001B[49m\u001B[43m,\u001B[49m\n\u001B[1;32m    666\u001B[0m \u001B[43m    \u001B[49m\u001B[43mtls_in_tls\u001B[49m\u001B[38;5;241;43m=\u001B[39;49m\u001B[43mtls_in_tls\u001B[49m\u001B[43m,\u001B[49m\n\u001B[1;32m    667\u001B[0m \u001B[43m    \u001B[49m\u001B[43massert_hostname\u001B[49m\u001B[38;5;241;43m=\u001B[39;49m\u001B[38;5;28;43mself\u001B[39;49m\u001B[38;5;241;43m.\u001B[39;49m\u001B[43massert_hostname\u001B[49m\u001B[43m,\u001B[49m\n\u001B[1;32m    668\u001B[0m \u001B[43m    \u001B[49m\u001B[43massert_fingerprint\u001B[49m\u001B[38;5;241;43m=\u001B[39;49m\u001B[38;5;28;43mself\u001B[39;49m\u001B[38;5;241;43m.\u001B[39;49m\u001B[43massert_fingerprint\u001B[49m\u001B[43m,\u001B[49m\n\u001B[1;32m    669\u001B[0m \u001B[43m\u001B[49m\u001B[43m)\u001B[49m\n\u001B[1;32m    670\u001B[0m \u001B[38;5;28mself\u001B[39m\u001B[38;5;241m.\u001B[39msock \u001B[38;5;241m=\u001B[39m sock_and_verified\u001B[38;5;241m.\u001B[39msocket\n",
      "File \u001B[0;32m~/Code/quilt/venv/lib/python3.10/site-packages/urllib3/connection.py:805\u001B[0m, in \u001B[0;36m_ssl_wrap_socket_and_match_hostname\u001B[0;34m(sock, cert_reqs, ssl_version, ssl_minimum_version, ssl_maximum_version, cert_file, key_file, key_password, ca_certs, ca_cert_dir, ca_cert_data, assert_hostname, assert_fingerprint, server_hostname, ssl_context, tls_in_tls)\u001B[0m\n\u001B[1;32m    803\u001B[0m         server_hostname \u001B[38;5;241m=\u001B[39m normalized\n\u001B[0;32m--> 805\u001B[0m ssl_sock \u001B[38;5;241m=\u001B[39m \u001B[43mssl_wrap_socket\u001B[49m\u001B[43m(\u001B[49m\n\u001B[1;32m    806\u001B[0m \u001B[43m    \u001B[49m\u001B[43msock\u001B[49m\u001B[38;5;241;43m=\u001B[39;49m\u001B[43msock\u001B[49m\u001B[43m,\u001B[49m\n\u001B[1;32m    807\u001B[0m \u001B[43m    \u001B[49m\u001B[43mkeyfile\u001B[49m\u001B[38;5;241;43m=\u001B[39;49m\u001B[43mkey_file\u001B[49m\u001B[43m,\u001B[49m\n\u001B[1;32m    808\u001B[0m \u001B[43m    \u001B[49m\u001B[43mcertfile\u001B[49m\u001B[38;5;241;43m=\u001B[39;49m\u001B[43mcert_file\u001B[49m\u001B[43m,\u001B[49m\n\u001B[1;32m    809\u001B[0m \u001B[43m    \u001B[49m\u001B[43mkey_password\u001B[49m\u001B[38;5;241;43m=\u001B[39;49m\u001B[43mkey_password\u001B[49m\u001B[43m,\u001B[49m\n\u001B[1;32m    810\u001B[0m \u001B[43m    \u001B[49m\u001B[43mca_certs\u001B[49m\u001B[38;5;241;43m=\u001B[39;49m\u001B[43mca_certs\u001B[49m\u001B[43m,\u001B[49m\n\u001B[1;32m    811\u001B[0m \u001B[43m    \u001B[49m\u001B[43mca_cert_dir\u001B[49m\u001B[38;5;241;43m=\u001B[39;49m\u001B[43mca_cert_dir\u001B[49m\u001B[43m,\u001B[49m\n\u001B[1;32m    812\u001B[0m \u001B[43m    \u001B[49m\u001B[43mca_cert_data\u001B[49m\u001B[38;5;241;43m=\u001B[39;49m\u001B[43mca_cert_data\u001B[49m\u001B[43m,\u001B[49m\n\u001B[1;32m    813\u001B[0m \u001B[43m    \u001B[49m\u001B[43mserver_hostname\u001B[49m\u001B[38;5;241;43m=\u001B[39;49m\u001B[43mserver_hostname\u001B[49m\u001B[43m,\u001B[49m\n\u001B[1;32m    814\u001B[0m \u001B[43m    \u001B[49m\u001B[43mssl_context\u001B[49m\u001B[38;5;241;43m=\u001B[39;49m\u001B[43mcontext\u001B[49m\u001B[43m,\u001B[49m\n\u001B[1;32m    815\u001B[0m \u001B[43m    \u001B[49m\u001B[43mtls_in_tls\u001B[49m\u001B[38;5;241;43m=\u001B[39;49m\u001B[43mtls_in_tls\u001B[49m\u001B[43m,\u001B[49m\n\u001B[1;32m    816\u001B[0m \u001B[43m\u001B[49m\u001B[43m)\u001B[49m\n\u001B[1;32m    818\u001B[0m \u001B[38;5;28;01mtry\u001B[39;00m:\n",
      "File \u001B[0;32m~/Code/quilt/venv/lib/python3.10/site-packages/urllib3/util/ssl_.py:465\u001B[0m, in \u001B[0;36mssl_wrap_socket\u001B[0;34m(sock, keyfile, certfile, cert_reqs, ca_certs, server_hostname, ssl_version, ciphers, ssl_context, ca_cert_dir, key_password, ca_cert_data, tls_in_tls)\u001B[0m\n\u001B[1;32m    463\u001B[0m     \u001B[38;5;28;01mpass\u001B[39;00m\n\u001B[0;32m--> 465\u001B[0m ssl_sock \u001B[38;5;241m=\u001B[39m \u001B[43m_ssl_wrap_socket_impl\u001B[49m\u001B[43m(\u001B[49m\u001B[43msock\u001B[49m\u001B[43m,\u001B[49m\u001B[43m \u001B[49m\u001B[43mcontext\u001B[49m\u001B[43m,\u001B[49m\u001B[43m \u001B[49m\u001B[43mtls_in_tls\u001B[49m\u001B[43m,\u001B[49m\u001B[43m \u001B[49m\u001B[43mserver_hostname\u001B[49m\u001B[43m)\u001B[49m\n\u001B[1;32m    466\u001B[0m \u001B[38;5;28;01mreturn\u001B[39;00m ssl_sock\n",
      "File \u001B[0;32m~/Code/quilt/venv/lib/python3.10/site-packages/urllib3/util/ssl_.py:509\u001B[0m, in \u001B[0;36m_ssl_wrap_socket_impl\u001B[0;34m(sock, ssl_context, tls_in_tls, server_hostname)\u001B[0m\n\u001B[1;32m    507\u001B[0m     \u001B[38;5;28;01mreturn\u001B[39;00m SSLTransport(sock, ssl_context, server_hostname)\n\u001B[0;32m--> 509\u001B[0m \u001B[38;5;28;01mreturn\u001B[39;00m \u001B[43mssl_context\u001B[49m\u001B[38;5;241;43m.\u001B[39;49m\u001B[43mwrap_socket\u001B[49m\u001B[43m(\u001B[49m\u001B[43msock\u001B[49m\u001B[43m,\u001B[49m\u001B[43m \u001B[49m\u001B[43mserver_hostname\u001B[49m\u001B[38;5;241;43m=\u001B[39;49m\u001B[43mserver_hostname\u001B[49m\u001B[43m)\u001B[49m\n",
      "File \u001B[0;32m/Library/Frameworks/Python.framework/Versions/3.10/lib/python3.10/ssl.py:513\u001B[0m, in \u001B[0;36mSSLContext.wrap_socket\u001B[0;34m(self, sock, server_side, do_handshake_on_connect, suppress_ragged_eofs, server_hostname, session)\u001B[0m\n\u001B[1;32m    507\u001B[0m \u001B[38;5;28;01mdef\u001B[39;00m \u001B[38;5;21mwrap_socket\u001B[39m(\u001B[38;5;28mself\u001B[39m, sock, server_side\u001B[38;5;241m=\u001B[39m\u001B[38;5;28;01mFalse\u001B[39;00m,\n\u001B[1;32m    508\u001B[0m                 do_handshake_on_connect\u001B[38;5;241m=\u001B[39m\u001B[38;5;28;01mTrue\u001B[39;00m,\n\u001B[1;32m    509\u001B[0m                 suppress_ragged_eofs\u001B[38;5;241m=\u001B[39m\u001B[38;5;28;01mTrue\u001B[39;00m,\n\u001B[1;32m    510\u001B[0m                 server_hostname\u001B[38;5;241m=\u001B[39m\u001B[38;5;28;01mNone\u001B[39;00m, session\u001B[38;5;241m=\u001B[39m\u001B[38;5;28;01mNone\u001B[39;00m):\n\u001B[1;32m    511\u001B[0m     \u001B[38;5;66;03m# SSLSocket class handles server_hostname encoding before it calls\u001B[39;00m\n\u001B[1;32m    512\u001B[0m     \u001B[38;5;66;03m# ctx._wrap_socket()\u001B[39;00m\n\u001B[0;32m--> 513\u001B[0m     \u001B[38;5;28;01mreturn\u001B[39;00m \u001B[38;5;28;43mself\u001B[39;49m\u001B[38;5;241;43m.\u001B[39;49m\u001B[43msslsocket_class\u001B[49m\u001B[38;5;241;43m.\u001B[39;49m\u001B[43m_create\u001B[49m\u001B[43m(\u001B[49m\n\u001B[1;32m    514\u001B[0m \u001B[43m        \u001B[49m\u001B[43msock\u001B[49m\u001B[38;5;241;43m=\u001B[39;49m\u001B[43msock\u001B[49m\u001B[43m,\u001B[49m\n\u001B[1;32m    515\u001B[0m \u001B[43m        \u001B[49m\u001B[43mserver_side\u001B[49m\u001B[38;5;241;43m=\u001B[39;49m\u001B[43mserver_side\u001B[49m\u001B[43m,\u001B[49m\n\u001B[1;32m    516\u001B[0m \u001B[43m        \u001B[49m\u001B[43mdo_handshake_on_connect\u001B[49m\u001B[38;5;241;43m=\u001B[39;49m\u001B[43mdo_handshake_on_connect\u001B[49m\u001B[43m,\u001B[49m\n\u001B[1;32m    517\u001B[0m \u001B[43m        \u001B[49m\u001B[43msuppress_ragged_eofs\u001B[49m\u001B[38;5;241;43m=\u001B[39;49m\u001B[43msuppress_ragged_eofs\u001B[49m\u001B[43m,\u001B[49m\n\u001B[1;32m    518\u001B[0m \u001B[43m        \u001B[49m\u001B[43mserver_hostname\u001B[49m\u001B[38;5;241;43m=\u001B[39;49m\u001B[43mserver_hostname\u001B[49m\u001B[43m,\u001B[49m\n\u001B[1;32m    519\u001B[0m \u001B[43m        \u001B[49m\u001B[43mcontext\u001B[49m\u001B[38;5;241;43m=\u001B[39;49m\u001B[38;5;28;43mself\u001B[39;49m\u001B[43m,\u001B[49m\n\u001B[1;32m    520\u001B[0m \u001B[43m        \u001B[49m\u001B[43msession\u001B[49m\u001B[38;5;241;43m=\u001B[39;49m\u001B[43msession\u001B[49m\n\u001B[1;32m    521\u001B[0m \u001B[43m    \u001B[49m\u001B[43m)\u001B[49m\n",
      "File \u001B[0;32m/Library/Frameworks/Python.framework/Versions/3.10/lib/python3.10/ssl.py:1071\u001B[0m, in \u001B[0;36mSSLSocket._create\u001B[0;34m(cls, sock, server_side, do_handshake_on_connect, suppress_ragged_eofs, server_hostname, context, session)\u001B[0m\n\u001B[1;32m   1070\u001B[0m             \u001B[38;5;28;01mraise\u001B[39;00m \u001B[38;5;167;01mValueError\u001B[39;00m(\u001B[38;5;124m\"\u001B[39m\u001B[38;5;124mdo_handshake_on_connect should not be specified for non-blocking sockets\u001B[39m\u001B[38;5;124m\"\u001B[39m)\n\u001B[0;32m-> 1071\u001B[0m         \u001B[38;5;28;43mself\u001B[39;49m\u001B[38;5;241;43m.\u001B[39;49m\u001B[43mdo_handshake\u001B[49m\u001B[43m(\u001B[49m\u001B[43m)\u001B[49m\n\u001B[1;32m   1072\u001B[0m \u001B[38;5;28;01mexcept\u001B[39;00m (\u001B[38;5;167;01mOSError\u001B[39;00m, \u001B[38;5;167;01mValueError\u001B[39;00m):\n",
      "File \u001B[0;32m/Library/Frameworks/Python.framework/Versions/3.10/lib/python3.10/ssl.py:1342\u001B[0m, in \u001B[0;36mSSLSocket.do_handshake\u001B[0;34m(self, block)\u001B[0m\n\u001B[1;32m   1341\u001B[0m         \u001B[38;5;28mself\u001B[39m\u001B[38;5;241m.\u001B[39msettimeout(\u001B[38;5;28;01mNone\u001B[39;00m)\n\u001B[0;32m-> 1342\u001B[0m     \u001B[38;5;28;43mself\u001B[39;49m\u001B[38;5;241;43m.\u001B[39;49m\u001B[43m_sslobj\u001B[49m\u001B[38;5;241;43m.\u001B[39;49m\u001B[43mdo_handshake\u001B[49m\u001B[43m(\u001B[49m\u001B[43m)\u001B[49m\n\u001B[1;32m   1343\u001B[0m \u001B[38;5;28;01mfinally\u001B[39;00m:\n",
      "\u001B[0;31mSSLCertVerificationError\u001B[0m: [SSL: CERTIFICATE_VERIFY_FAILED] certificate verify failed: self signed certificate in certificate chain (_ssl.c:997)",
      "\nDuring handling of the above exception, another exception occurred:\n",
      "\u001B[0;31mSSLError\u001B[0m                                  Traceback (most recent call last)",
      "File \u001B[0;32m~/Code/quilt/venv/lib/python3.10/site-packages/urllib3/connectionpool.py:789\u001B[0m, in \u001B[0;36mHTTPConnectionPool.urlopen\u001B[0;34m(self, method, url, body, headers, retries, redirect, assert_same_host, timeout, pool_timeout, release_conn, chunked, body_pos, preload_content, decode_content, **response_kw)\u001B[0m\n\u001B[1;32m    788\u001B[0m \u001B[38;5;66;03m# Make the request on the HTTPConnection object\u001B[39;00m\n\u001B[0;32m--> 789\u001B[0m response \u001B[38;5;241m=\u001B[39m \u001B[38;5;28;43mself\u001B[39;49m\u001B[38;5;241;43m.\u001B[39;49m\u001B[43m_make_request\u001B[49m\u001B[43m(\u001B[49m\n\u001B[1;32m    790\u001B[0m \u001B[43m    \u001B[49m\u001B[43mconn\u001B[49m\u001B[43m,\u001B[49m\n\u001B[1;32m    791\u001B[0m \u001B[43m    \u001B[49m\u001B[43mmethod\u001B[49m\u001B[43m,\u001B[49m\n\u001B[1;32m    792\u001B[0m \u001B[43m    \u001B[49m\u001B[43murl\u001B[49m\u001B[43m,\u001B[49m\n\u001B[1;32m    793\u001B[0m \u001B[43m    \u001B[49m\u001B[43mtimeout\u001B[49m\u001B[38;5;241;43m=\u001B[39;49m\u001B[43mtimeout_obj\u001B[49m\u001B[43m,\u001B[49m\n\u001B[1;32m    794\u001B[0m \u001B[43m    \u001B[49m\u001B[43mbody\u001B[49m\u001B[38;5;241;43m=\u001B[39;49m\u001B[43mbody\u001B[49m\u001B[43m,\u001B[49m\n\u001B[1;32m    795\u001B[0m \u001B[43m    \u001B[49m\u001B[43mheaders\u001B[49m\u001B[38;5;241;43m=\u001B[39;49m\u001B[43mheaders\u001B[49m\u001B[43m,\u001B[49m\n\u001B[1;32m    796\u001B[0m \u001B[43m    \u001B[49m\u001B[43mchunked\u001B[49m\u001B[38;5;241;43m=\u001B[39;49m\u001B[43mchunked\u001B[49m\u001B[43m,\u001B[49m\n\u001B[1;32m    797\u001B[0m \u001B[43m    \u001B[49m\u001B[43mretries\u001B[49m\u001B[38;5;241;43m=\u001B[39;49m\u001B[43mretries\u001B[49m\u001B[43m,\u001B[49m\n\u001B[1;32m    798\u001B[0m \u001B[43m    \u001B[49m\u001B[43mresponse_conn\u001B[49m\u001B[38;5;241;43m=\u001B[39;49m\u001B[43mresponse_conn\u001B[49m\u001B[43m,\u001B[49m\n\u001B[1;32m    799\u001B[0m \u001B[43m    \u001B[49m\u001B[43mpreload_content\u001B[49m\u001B[38;5;241;43m=\u001B[39;49m\u001B[43mpreload_content\u001B[49m\u001B[43m,\u001B[49m\n\u001B[1;32m    800\u001B[0m \u001B[43m    \u001B[49m\u001B[43mdecode_content\u001B[49m\u001B[38;5;241;43m=\u001B[39;49m\u001B[43mdecode_content\u001B[49m\u001B[43m,\u001B[49m\n\u001B[1;32m    801\u001B[0m \u001B[43m    \u001B[49m\u001B[38;5;241;43m*\u001B[39;49m\u001B[38;5;241;43m*\u001B[39;49m\u001B[43mresponse_kw\u001B[49m\u001B[43m,\u001B[49m\n\u001B[1;32m    802\u001B[0m \u001B[43m\u001B[49m\u001B[43m)\u001B[49m\n\u001B[1;32m    804\u001B[0m \u001B[38;5;66;03m# Everything went great!\u001B[39;00m\n",
      "File \u001B[0;32m~/Code/quilt/venv/lib/python3.10/site-packages/urllib3/connectionpool.py:490\u001B[0m, in \u001B[0;36mHTTPConnectionPool._make_request\u001B[0;34m(self, conn, method, url, body, headers, retries, timeout, chunked, response_conn, preload_content, decode_content, enforce_content_length)\u001B[0m\n\u001B[1;32m    489\u001B[0m         new_e \u001B[38;5;241m=\u001B[39m _wrap_proxy_error(new_e, conn\u001B[38;5;241m.\u001B[39mproxy\u001B[38;5;241m.\u001B[39mscheme)\n\u001B[0;32m--> 490\u001B[0m     \u001B[38;5;28;01mraise\u001B[39;00m new_e\n\u001B[1;32m    492\u001B[0m \u001B[38;5;66;03m# conn.request() calls http.client.*.request, not the method in\u001B[39;00m\n\u001B[1;32m    493\u001B[0m \u001B[38;5;66;03m# urllib3.request. It also calls makefile (recv) on the socket.\u001B[39;00m\n",
      "\u001B[0;31mSSLError\u001B[0m: [SSL: CERTIFICATE_VERIFY_FAILED] certificate verify failed: self signed certificate in certificate chain (_ssl.c:997)",
      "\nThe above exception was the direct cause of the following exception:\n",
      "\u001B[0;31mMaxRetryError\u001B[0m                             Traceback (most recent call last)",
      "File \u001B[0;32m~/Code/quilt/venv/lib/python3.10/site-packages/requests/adapters.py:667\u001B[0m, in \u001B[0;36mHTTPAdapter.send\u001B[0;34m(self, request, stream, timeout, verify, cert, proxies)\u001B[0m\n\u001B[1;32m    666\u001B[0m \u001B[38;5;28;01mtry\u001B[39;00m:\n\u001B[0;32m--> 667\u001B[0m     resp \u001B[38;5;241m=\u001B[39m \u001B[43mconn\u001B[49m\u001B[38;5;241;43m.\u001B[39;49m\u001B[43murlopen\u001B[49m\u001B[43m(\u001B[49m\n\u001B[1;32m    668\u001B[0m \u001B[43m        \u001B[49m\u001B[43mmethod\u001B[49m\u001B[38;5;241;43m=\u001B[39;49m\u001B[43mrequest\u001B[49m\u001B[38;5;241;43m.\u001B[39;49m\u001B[43mmethod\u001B[49m\u001B[43m,\u001B[49m\n\u001B[1;32m    669\u001B[0m \u001B[43m        \u001B[49m\u001B[43murl\u001B[49m\u001B[38;5;241;43m=\u001B[39;49m\u001B[43murl\u001B[49m\u001B[43m,\u001B[49m\n\u001B[1;32m    670\u001B[0m \u001B[43m        \u001B[49m\u001B[43mbody\u001B[49m\u001B[38;5;241;43m=\u001B[39;49m\u001B[43mrequest\u001B[49m\u001B[38;5;241;43m.\u001B[39;49m\u001B[43mbody\u001B[49m\u001B[43m,\u001B[49m\n\u001B[1;32m    671\u001B[0m \u001B[43m        \u001B[49m\u001B[43mheaders\u001B[49m\u001B[38;5;241;43m=\u001B[39;49m\u001B[43mrequest\u001B[49m\u001B[38;5;241;43m.\u001B[39;49m\u001B[43mheaders\u001B[49m\u001B[43m,\u001B[49m\n\u001B[1;32m    672\u001B[0m \u001B[43m        \u001B[49m\u001B[43mredirect\u001B[49m\u001B[38;5;241;43m=\u001B[39;49m\u001B[38;5;28;43;01mFalse\u001B[39;49;00m\u001B[43m,\u001B[49m\n\u001B[1;32m    673\u001B[0m \u001B[43m        \u001B[49m\u001B[43massert_same_host\u001B[49m\u001B[38;5;241;43m=\u001B[39;49m\u001B[38;5;28;43;01mFalse\u001B[39;49;00m\u001B[43m,\u001B[49m\n\u001B[1;32m    674\u001B[0m \u001B[43m        \u001B[49m\u001B[43mpreload_content\u001B[49m\u001B[38;5;241;43m=\u001B[39;49m\u001B[38;5;28;43;01mFalse\u001B[39;49;00m\u001B[43m,\u001B[49m\n\u001B[1;32m    675\u001B[0m \u001B[43m        \u001B[49m\u001B[43mdecode_content\u001B[49m\u001B[38;5;241;43m=\u001B[39;49m\u001B[38;5;28;43;01mFalse\u001B[39;49;00m\u001B[43m,\u001B[49m\n\u001B[1;32m    676\u001B[0m \u001B[43m        \u001B[49m\u001B[43mretries\u001B[49m\u001B[38;5;241;43m=\u001B[39;49m\u001B[38;5;28;43mself\u001B[39;49m\u001B[38;5;241;43m.\u001B[39;49m\u001B[43mmax_retries\u001B[49m\u001B[43m,\u001B[49m\n\u001B[1;32m    677\u001B[0m \u001B[43m        \u001B[49m\u001B[43mtimeout\u001B[49m\u001B[38;5;241;43m=\u001B[39;49m\u001B[43mtimeout\u001B[49m\u001B[43m,\u001B[49m\n\u001B[1;32m    678\u001B[0m \u001B[43m        \u001B[49m\u001B[43mchunked\u001B[49m\u001B[38;5;241;43m=\u001B[39;49m\u001B[43mchunked\u001B[49m\u001B[43m,\u001B[49m\n\u001B[1;32m    679\u001B[0m \u001B[43m    \u001B[49m\u001B[43m)\u001B[49m\n\u001B[1;32m    681\u001B[0m \u001B[38;5;28;01mexcept\u001B[39;00m (ProtocolError, \u001B[38;5;167;01mOSError\u001B[39;00m) \u001B[38;5;28;01mas\u001B[39;00m err:\n",
      "File \u001B[0;32m~/Code/quilt/venv/lib/python3.10/site-packages/urllib3/connectionpool.py:843\u001B[0m, in \u001B[0;36mHTTPConnectionPool.urlopen\u001B[0;34m(self, method, url, body, headers, retries, redirect, assert_same_host, timeout, pool_timeout, release_conn, chunked, body_pos, preload_content, decode_content, **response_kw)\u001B[0m\n\u001B[1;32m    841\u001B[0m     new_e \u001B[38;5;241m=\u001B[39m ProtocolError(\u001B[38;5;124m\"\u001B[39m\u001B[38;5;124mConnection aborted.\u001B[39m\u001B[38;5;124m\"\u001B[39m, new_e)\n\u001B[0;32m--> 843\u001B[0m retries \u001B[38;5;241m=\u001B[39m \u001B[43mretries\u001B[49m\u001B[38;5;241;43m.\u001B[39;49m\u001B[43mincrement\u001B[49m\u001B[43m(\u001B[49m\n\u001B[1;32m    844\u001B[0m \u001B[43m    \u001B[49m\u001B[43mmethod\u001B[49m\u001B[43m,\u001B[49m\u001B[43m \u001B[49m\u001B[43murl\u001B[49m\u001B[43m,\u001B[49m\u001B[43m \u001B[49m\u001B[43merror\u001B[49m\u001B[38;5;241;43m=\u001B[39;49m\u001B[43mnew_e\u001B[49m\u001B[43m,\u001B[49m\u001B[43m \u001B[49m\u001B[43m_pool\u001B[49m\u001B[38;5;241;43m=\u001B[39;49m\u001B[38;5;28;43mself\u001B[39;49m\u001B[43m,\u001B[49m\u001B[43m \u001B[49m\u001B[43m_stacktrace\u001B[49m\u001B[38;5;241;43m=\u001B[39;49m\u001B[43msys\u001B[49m\u001B[38;5;241;43m.\u001B[39;49m\u001B[43mexc_info\u001B[49m\u001B[43m(\u001B[49m\u001B[43m)\u001B[49m\u001B[43m[\u001B[49m\u001B[38;5;241;43m2\u001B[39;49m\u001B[43m]\u001B[49m\n\u001B[1;32m    845\u001B[0m \u001B[43m\u001B[49m\u001B[43m)\u001B[49m\n\u001B[1;32m    846\u001B[0m retries\u001B[38;5;241m.\u001B[39msleep()\n",
      "File \u001B[0;32m~/Code/quilt/venv/lib/python3.10/site-packages/urllib3/util/retry.py:519\u001B[0m, in \u001B[0;36mRetry.increment\u001B[0;34m(self, method, url, response, error, _pool, _stacktrace)\u001B[0m\n\u001B[1;32m    518\u001B[0m     reason \u001B[38;5;241m=\u001B[39m error \u001B[38;5;129;01mor\u001B[39;00m ResponseError(cause)\n\u001B[0;32m--> 519\u001B[0m     \u001B[38;5;28;01mraise\u001B[39;00m MaxRetryError(_pool, url, reason) \u001B[38;5;28;01mfrom\u001B[39;00m \u001B[38;5;21;01mreason\u001B[39;00m  \u001B[38;5;66;03m# type: ignore[arg-type]\u001B[39;00m\n\u001B[1;32m    521\u001B[0m log\u001B[38;5;241m.\u001B[39mdebug(\u001B[38;5;124m\"\u001B[39m\u001B[38;5;124mIncremented Retry for (url=\u001B[39m\u001B[38;5;124m'\u001B[39m\u001B[38;5;132;01m%s\u001B[39;00m\u001B[38;5;124m'\u001B[39m\u001B[38;5;124m): \u001B[39m\u001B[38;5;132;01m%r\u001B[39;00m\u001B[38;5;124m\"\u001B[39m, url, new_retry)\n",
      "\u001B[0;31mMaxRetryError\u001B[0m: HTTPSConnectionPool(host='quiltpoc.ecicl.cloud.syngenta.org', port=443): Max retries exceeded with url: /config.json (Caused by SSLError(SSLCertVerificationError(1, '[SSL: CERTIFICATE_VERIFY_FAILED] certificate verify failed: self signed certificate in certificate chain (_ssl.c:997)')))",
      "\nDuring handling of the above exception, another exception occurred:\n",
      "\u001B[0;31mSSLError\u001B[0m                                  Traceback (most recent call last)",
      "Cell \u001B[0;32mIn[5], line 1\u001B[0m\n\u001B[0;32m----> 1\u001B[0m \u001B[43mquilt3\u001B[49m\u001B[38;5;241;43m.\u001B[39;49m\u001B[43mconfig\u001B[49m\u001B[43m(\u001B[49m\u001B[38;5;124;43m\"\u001B[39;49m\u001B[38;5;124;43mhttps://quiltpoc.ecicl.cloud.syngenta.org\u001B[39;49m\u001B[38;5;124;43m\"\u001B[39;49m\u001B[43m)\u001B[49m\n",
      "File \u001B[0;32m~/Code/quilt/venv/lib/python3.10/site-packages/quilt3/telemetry.py:135\u001B[0m, in \u001B[0;36mApiTelemetry.__call__.<locals>.decorated\u001B[0;34m(*args, **kwargs)\u001B[0m\n\u001B[1;32m    132\u001B[0m ApiTelemetry\u001B[38;5;241m.\u001B[39mcleanup_completed_requests()\n\u001B[1;32m    133\u001B[0m ApiTelemetry\u001B[38;5;241m.\u001B[39mreport_api_use(\u001B[38;5;28mself\u001B[39m\u001B[38;5;241m.\u001B[39mapi_name, get_session_id())\n\u001B[0;32m--> 135\u001B[0m results \u001B[38;5;241m=\u001B[39m \u001B[43mfunc\u001B[49m\u001B[43m(\u001B[49m\u001B[38;5;241;43m*\u001B[39;49m\u001B[43margs\u001B[49m\u001B[43m,\u001B[49m\u001B[43m \u001B[49m\u001B[38;5;241;43m*\u001B[39;49m\u001B[38;5;241;43m*\u001B[39;49m\u001B[43mkwargs\u001B[49m\u001B[43m)\u001B[49m\n\u001B[1;32m    136\u001B[0m \u001B[38;5;66;03m# print(f\"{len(ApiTelemetry.pending_reqs)} request(s) pending!\")\u001B[39;00m\n\u001B[1;32m    138\u001B[0m \u001B[38;5;28;01mif\u001B[39;00m \u001B[38;5;28mself\u001B[39m\u001B[38;5;241m.\u001B[39mapi_name \u001B[38;5;241m==\u001B[39m \u001B[38;5;124m\"\u001B[39m\u001B[38;5;124mapi.disable_telemetry\u001B[39m\u001B[38;5;124m\"\u001B[39m:\n\u001B[1;32m    139\u001B[0m     \u001B[38;5;66;03m# Quick hack to disable telemetry immediately after the user calls disable_telemetry()\u001B[39;00m\n\u001B[1;32m    140\u001B[0m     \u001B[38;5;66;03m# TODO(armand): This string matching is extremely brittle. Fix ASAP\u001B[39;00m\n",
      "File \u001B[0;32m~/Code/quilt/venv/lib/python3.10/site-packages/quilt3/api.py:118\u001B[0m, in \u001B[0;36mconfig\u001B[0;34m(*catalog_url, **config_values)\u001B[0m\n\u001B[1;32m     90\u001B[0m \u001B[38;5;129m@ApiTelemetry\u001B[39m(\u001B[38;5;124m\"\u001B[39m\u001B[38;5;124mapi.config\u001B[39m\u001B[38;5;124m\"\u001B[39m)\n\u001B[1;32m     91\u001B[0m \u001B[38;5;28;01mdef\u001B[39;00m \u001B[38;5;21mconfig\u001B[39m(\u001B[38;5;241m*\u001B[39mcatalog_url, \u001B[38;5;241m*\u001B[39m\u001B[38;5;241m*\u001B[39mconfig_values):\n\u001B[1;32m     92\u001B[0m \u001B[38;5;250m    \u001B[39m\u001B[38;5;124;03m\"\"\"Set or read the QUILT configuration.\u001B[39;00m\n\u001B[1;32m     93\u001B[0m \n\u001B[1;32m     94\u001B[0m \u001B[38;5;124;03m    To retrieve the current config, call directly, without arguments:\u001B[39;00m\n\u001B[0;32m   (...)\u001B[0m\n\u001B[1;32m    116\u001B[0m \u001B[38;5;124;03m        QuiltConfig: (an ordered Mapping)\u001B[39;00m\n\u001B[1;32m    117\u001B[0m \u001B[38;5;124;03m    \"\"\"\u001B[39;00m\n\u001B[0;32m--> 118\u001B[0m     \u001B[38;5;28;01mreturn\u001B[39;00m \u001B[43m_config\u001B[49m\u001B[43m(\u001B[49m\u001B[38;5;241;43m*\u001B[39;49m\u001B[43mcatalog_url\u001B[49m\u001B[43m,\u001B[49m\u001B[43m \u001B[49m\u001B[38;5;241;43m*\u001B[39;49m\u001B[38;5;241;43m*\u001B[39;49m\u001B[43mconfig_values\u001B[49m\u001B[43m)\u001B[49m\n",
      "File \u001B[0;32m~/Code/quilt/venv/lib/python3.10/site-packages/quilt3/api.py:135\u001B[0m, in \u001B[0;36m_config\u001B[0;34m(*catalog_url, **config_values)\u001B[0m\n\u001B[1;32m    133\u001B[0m \u001B[38;5;66;03m# If catalog_url is empty, reset to an empty config.\u001B[39;00m\n\u001B[1;32m    134\u001B[0m \u001B[38;5;28;01mif\u001B[39;00m catalog_url:\n\u001B[0;32m--> 135\u001B[0m     config_template \u001B[38;5;241m=\u001B[39m \u001B[43mconfigure_from_url\u001B[49m\u001B[43m(\u001B[49m\u001B[43mcatalog_url\u001B[49m\u001B[43m)\u001B[49m\n\u001B[1;32m    136\u001B[0m \u001B[38;5;28;01melse\u001B[39;00m:\n\u001B[1;32m    137\u001B[0m     config_template \u001B[38;5;241m=\u001B[39m read_yaml(CONFIG_TEMPLATE)\n",
      "File \u001B[0;32m~/Code/quilt/venv/lib/python3.10/site-packages/quilt3/util.py:373\u001B[0m, in \u001B[0;36mconfigure_from_url\u001B[0;34m(catalog_url)\u001B[0m\n\u001B[1;32m    370\u001B[0m \u001B[38;5;66;03m# Get the new config\u001B[39;00m\n\u001B[1;32m    371\u001B[0m config_url \u001B[38;5;241m=\u001B[39m catalog_url \u001B[38;5;241m+\u001B[39m \u001B[38;5;124m'\u001B[39m\u001B[38;5;124m/config.json\u001B[39m\u001B[38;5;124m'\u001B[39m\n\u001B[0;32m--> 373\u001B[0m response \u001B[38;5;241m=\u001B[39m \u001B[43mrequests\u001B[49m\u001B[38;5;241;43m.\u001B[39;49m\u001B[43mget\u001B[49m\u001B[43m(\u001B[49m\u001B[43mconfig_url\u001B[49m\u001B[43m)\u001B[49m\n\u001B[1;32m    374\u001B[0m \u001B[38;5;28;01mif\u001B[39;00m \u001B[38;5;129;01mnot\u001B[39;00m response\u001B[38;5;241m.\u001B[39mok:\n\u001B[1;32m    375\u001B[0m     message \u001B[38;5;241m=\u001B[39m \u001B[38;5;124m\"\u001B[39m\u001B[38;5;124mAn HTTP Error (\u001B[39m\u001B[38;5;132;01m{code}\u001B[39;00m\u001B[38;5;124m) occurred: \u001B[39m\u001B[38;5;132;01m{reason}\u001B[39;00m\u001B[38;5;124m\"\u001B[39m\n",
      "File \u001B[0;32m~/Code/quilt/venv/lib/python3.10/site-packages/requests/api.py:73\u001B[0m, in \u001B[0;36mget\u001B[0;34m(url, params, **kwargs)\u001B[0m\n\u001B[1;32m     62\u001B[0m \u001B[38;5;28;01mdef\u001B[39;00m \u001B[38;5;21mget\u001B[39m(url, params\u001B[38;5;241m=\u001B[39m\u001B[38;5;28;01mNone\u001B[39;00m, \u001B[38;5;241m*\u001B[39m\u001B[38;5;241m*\u001B[39mkwargs):\n\u001B[1;32m     63\u001B[0m \u001B[38;5;250m    \u001B[39m\u001B[38;5;124mr\u001B[39m\u001B[38;5;124;03m\"\"\"Sends a GET request.\u001B[39;00m\n\u001B[1;32m     64\u001B[0m \n\u001B[1;32m     65\u001B[0m \u001B[38;5;124;03m    :param url: URL for the new :class:`Request` object.\u001B[39;00m\n\u001B[0;32m   (...)\u001B[0m\n\u001B[1;32m     70\u001B[0m \u001B[38;5;124;03m    :rtype: requests.Response\u001B[39;00m\n\u001B[1;32m     71\u001B[0m \u001B[38;5;124;03m    \"\"\"\u001B[39;00m\n\u001B[0;32m---> 73\u001B[0m     \u001B[38;5;28;01mreturn\u001B[39;00m \u001B[43mrequest\u001B[49m\u001B[43m(\u001B[49m\u001B[38;5;124;43m\"\u001B[39;49m\u001B[38;5;124;43mget\u001B[39;49m\u001B[38;5;124;43m\"\u001B[39;49m\u001B[43m,\u001B[49m\u001B[43m \u001B[49m\u001B[43murl\u001B[49m\u001B[43m,\u001B[49m\u001B[43m \u001B[49m\u001B[43mparams\u001B[49m\u001B[38;5;241;43m=\u001B[39;49m\u001B[43mparams\u001B[49m\u001B[43m,\u001B[49m\u001B[43m \u001B[49m\u001B[38;5;241;43m*\u001B[39;49m\u001B[38;5;241;43m*\u001B[39;49m\u001B[43mkwargs\u001B[49m\u001B[43m)\u001B[49m\n",
      "File \u001B[0;32m~/Code/quilt/venv/lib/python3.10/site-packages/requests/api.py:59\u001B[0m, in \u001B[0;36mrequest\u001B[0;34m(method, url, **kwargs)\u001B[0m\n\u001B[1;32m     55\u001B[0m \u001B[38;5;66;03m# By using the 'with' statement we are sure the session is closed, thus we\u001B[39;00m\n\u001B[1;32m     56\u001B[0m \u001B[38;5;66;03m# avoid leaving sockets open which can trigger a ResourceWarning in some\u001B[39;00m\n\u001B[1;32m     57\u001B[0m \u001B[38;5;66;03m# cases, and look like a memory leak in others.\u001B[39;00m\n\u001B[1;32m     58\u001B[0m \u001B[38;5;28;01mwith\u001B[39;00m sessions\u001B[38;5;241m.\u001B[39mSession() \u001B[38;5;28;01mas\u001B[39;00m session:\n\u001B[0;32m---> 59\u001B[0m     \u001B[38;5;28;01mreturn\u001B[39;00m \u001B[43msession\u001B[49m\u001B[38;5;241;43m.\u001B[39;49m\u001B[43mrequest\u001B[49m\u001B[43m(\u001B[49m\u001B[43mmethod\u001B[49m\u001B[38;5;241;43m=\u001B[39;49m\u001B[43mmethod\u001B[49m\u001B[43m,\u001B[49m\u001B[43m \u001B[49m\u001B[43murl\u001B[49m\u001B[38;5;241;43m=\u001B[39;49m\u001B[43murl\u001B[49m\u001B[43m,\u001B[49m\u001B[43m \u001B[49m\u001B[38;5;241;43m*\u001B[39;49m\u001B[38;5;241;43m*\u001B[39;49m\u001B[43mkwargs\u001B[49m\u001B[43m)\u001B[49m\n",
      "File \u001B[0;32m~/Code/quilt/venv/lib/python3.10/site-packages/requests/sessions.py:589\u001B[0m, in \u001B[0;36mSession.request\u001B[0;34m(self, method, url, params, data, headers, cookies, files, auth, timeout, allow_redirects, proxies, hooks, stream, verify, cert, json)\u001B[0m\n\u001B[1;32m    584\u001B[0m send_kwargs \u001B[38;5;241m=\u001B[39m {\n\u001B[1;32m    585\u001B[0m     \u001B[38;5;124m\"\u001B[39m\u001B[38;5;124mtimeout\u001B[39m\u001B[38;5;124m\"\u001B[39m: timeout,\n\u001B[1;32m    586\u001B[0m     \u001B[38;5;124m\"\u001B[39m\u001B[38;5;124mallow_redirects\u001B[39m\u001B[38;5;124m\"\u001B[39m: allow_redirects,\n\u001B[1;32m    587\u001B[0m }\n\u001B[1;32m    588\u001B[0m send_kwargs\u001B[38;5;241m.\u001B[39mupdate(settings)\n\u001B[0;32m--> 589\u001B[0m resp \u001B[38;5;241m=\u001B[39m \u001B[38;5;28;43mself\u001B[39;49m\u001B[38;5;241;43m.\u001B[39;49m\u001B[43msend\u001B[49m\u001B[43m(\u001B[49m\u001B[43mprep\u001B[49m\u001B[43m,\u001B[49m\u001B[43m \u001B[49m\u001B[38;5;241;43m*\u001B[39;49m\u001B[38;5;241;43m*\u001B[39;49m\u001B[43msend_kwargs\u001B[49m\u001B[43m)\u001B[49m\n\u001B[1;32m    591\u001B[0m \u001B[38;5;28;01mreturn\u001B[39;00m resp\n",
      "File \u001B[0;32m~/Code/quilt/venv/lib/python3.10/site-packages/requests/sessions.py:703\u001B[0m, in \u001B[0;36mSession.send\u001B[0;34m(self, request, **kwargs)\u001B[0m\n\u001B[1;32m    700\u001B[0m start \u001B[38;5;241m=\u001B[39m preferred_clock()\n\u001B[1;32m    702\u001B[0m \u001B[38;5;66;03m# Send the request\u001B[39;00m\n\u001B[0;32m--> 703\u001B[0m r \u001B[38;5;241m=\u001B[39m \u001B[43madapter\u001B[49m\u001B[38;5;241;43m.\u001B[39;49m\u001B[43msend\u001B[49m\u001B[43m(\u001B[49m\u001B[43mrequest\u001B[49m\u001B[43m,\u001B[49m\u001B[43m \u001B[49m\u001B[38;5;241;43m*\u001B[39;49m\u001B[38;5;241;43m*\u001B[39;49m\u001B[43mkwargs\u001B[49m\u001B[43m)\u001B[49m\n\u001B[1;32m    705\u001B[0m \u001B[38;5;66;03m# Total elapsed time of the request (approximately)\u001B[39;00m\n\u001B[1;32m    706\u001B[0m elapsed \u001B[38;5;241m=\u001B[39m preferred_clock() \u001B[38;5;241m-\u001B[39m start\n",
      "File \u001B[0;32m~/Code/quilt/venv/lib/python3.10/site-packages/requests/adapters.py:698\u001B[0m, in \u001B[0;36mHTTPAdapter.send\u001B[0;34m(self, request, stream, timeout, verify, cert, proxies)\u001B[0m\n\u001B[1;32m    694\u001B[0m         \u001B[38;5;28;01mraise\u001B[39;00m ProxyError(e, request\u001B[38;5;241m=\u001B[39mrequest)\n\u001B[1;32m    696\u001B[0m     \u001B[38;5;28;01mif\u001B[39;00m \u001B[38;5;28misinstance\u001B[39m(e\u001B[38;5;241m.\u001B[39mreason, _SSLError):\n\u001B[1;32m    697\u001B[0m         \u001B[38;5;66;03m# This branch is for urllib3 v1.22 and later.\u001B[39;00m\n\u001B[0;32m--> 698\u001B[0m         \u001B[38;5;28;01mraise\u001B[39;00m SSLError(e, request\u001B[38;5;241m=\u001B[39mrequest)\n\u001B[1;32m    700\u001B[0m     \u001B[38;5;28;01mraise\u001B[39;00m \u001B[38;5;167;01mConnectionError\u001B[39;00m(e, request\u001B[38;5;241m=\u001B[39mrequest)\n\u001B[1;32m    702\u001B[0m \u001B[38;5;28;01mexcept\u001B[39;00m ClosedPoolError \u001B[38;5;28;01mas\u001B[39;00m e:\n",
      "\u001B[0;31mSSLError\u001B[0m: HTTPSConnectionPool(host='quiltpoc.ecicl.cloud.syngenta.org', port=443): Max retries exceeded with url: /config.json (Caused by SSLError(SSLCertVerificationError(1, '[SSL: CERTIFICATE_VERIFY_FAILED] certificate verify failed: self signed certificate in certificate chain (_ssl.c:997)')))"
     ]
    }
   ],
   "execution_count": 5
  },
  {
   "metadata": {
    "ExecuteTime": {
     "end_time": "2024-09-11T08:16:41.919264Z",
     "start_time": "2024-09-11T08:16:41.365187Z"
    }
   },
   "cell_type": "code",
   "source": "quilt3.config()",
   "id": "724bfdace7037d65",
   "outputs": [
    {
     "data": {
      "text/plain": [
       "<QuiltConfig at '/Users/sdeleye/Library/Application Support/Quilt/config.yml' {\n",
       "    \"navigator_url\": \"https://open.quiltdata.com\",\n",
       "    \"default_local_registry\": \"file:///Users/sdeleye/Library/Application%20Support/Quilt/packages\",\n",
       "    \"default_remote_registry\": null,\n",
       "    \"default_install_location\": null,\n",
       "    \"registryUrl\": \"https://open-registry.quiltdata.com\",\n",
       "    \"telemetry_disabled\": false,\n",
       "    \"s3Proxy\": \"https://open-s3-proxy.quiltdata.com\",\n",
       "    \"apiGatewayEndpoint\": \"https://sttuv8u2u4.execute-api.us-east-1.amazonaws.com/prod\",\n",
       "    \"binaryApiGatewayEndpoint\": null,\n",
       "    \"default_registry_version\": 1\n",
       "}>"
      ]
     },
     "execution_count": 4,
     "metadata": {},
     "output_type": "execute_result"
    }
   ],
   "execution_count": 4
  },
  {
   "cell_type": "markdown",
   "id": "1fbf323c-f7d6-46f7-96a1-314c8f378abb",
   "metadata": {},
   "source": [
    "Trying to authenticate into Quilt, copy provided code and paste it down below to the input box and press ENTER."
   ]
  },
  {
   "cell_type": "code",
   "execution_count": 23,
   "id": "c1194cb5",
   "metadata": {},
   "outputs": [
    {
     "name": "stdout",
     "output_type": "stream",
     "text": [
      "Launching a web browser...\n",
      "If that didn't work, please visit the following URL: https://quiltpoc-registry.ecicl.cloud.syngenta.org/login\n",
      "\n"
     ]
    },
    {
     "name": "stdin",
     "output_type": "stream",
     "text": [
      "Enter the code from the webpage:  eyJpZCI6ICI3MWRhNGJiNC0zNDY3LTRiMmUtOWU3ZC1iOTNhMmZlYmYwNWYiLCAiY29kZSI6ICJiOWZmY2NjYy03YzIxLTQ5ZWEtODJlOC1kNzQ4MDFjZDFkZWUifQ==\n"
     ]
    }
   ],
   "source": [
    "quilt3.login()"
   ]
  },
  {
   "cell_type": "markdown",
   "id": "d5981286-09b2-49c9-983e-d51521dfba8a",
   "metadata": {},
   "source": [
    "# 2. Uploading new package from the local machine to Quilt"
   ]
  },
  {
   "cell_type": "code",
   "execution_count": 25,
   "id": "b254d431-c89f-45e2-a92e-a61815086719",
   "metadata": {},
   "outputs": [],
   "source": [
    "s3_bucket = \"s3://bioinformatics-quilt-poc\" #target bucket where data will be pushed\n",
    "quilt_package_name = \"alenaalekseeva/experiment_2\" #name of the package to be create in Quilt\n",
    "quilt_package_fastq_path = \"test_data\" #prefix to be added to uploaded data in Quilt\n",
    "quilt_package_samplesheet_path = \"sample_sheet_data\"\n",
    "local_fastq_directory_name = \"C://Files_NGS//SSF211.1\" #your local drive folder where data will be uploaded from\n",
    "local_samplesheet_file_name = \"D://local_folder//samplesheet.csv\""
   ]
  },
  {
   "cell_type": "markdown",
   "id": "a9bd930d-b319-4160-8cd2-f594fdf18cec",
   "metadata": {},
   "source": [
    "Initialize the package and set source and destination path"
   ]
  },
  {
   "cell_type": "code",
   "execution_count": 27,
   "id": "b098d436-ee42-41e7-a57d-4413d4a6d6b1",
   "metadata": {},
   "outputs": [
    {
     "data": {
      "text/plain": [
       "(local Package)\n",
       " └─test_data/\n",
       "   └─SSF211.fasta\n",
       "   └─annot.emapper.annotations\n",
       "   └─annot.emapper.hits\n",
       "   └─annot.emapper.seed_orthologs\n",
       "   └─annot.faa\n",
       "   └─annot.faa.diamond.csv\n",
       "   └─annot.faa.gff3\n",
       "   └─annot.faa.json\n",
       "   └─annot.faa.rgi.output.json\n",
       "   └─annot.faa.rgi.output.txt\n",
       "   └─annot.faa.tsv\n",
       "   └─annot.faa.xml\n",
       "   └─annot.fasta\n",
       "   └─annot.fna\n",
       "   └─annot.gbk\n",
       "   └─annot.gff\n",
       "   └─annot.sqn\n",
       "   └─annot/\n",
       "   └─annot_cds_from_genomic.fna\n",
       " ..."
      ]
     },
     "execution_count": 27,
     "metadata": {},
     "output_type": "execute_result"
    }
   ],
   "source": [
    "p = quilt3.Package()\n",
    "p.set_dir(quilt_package_fastq_path, local_fastq_directory_name)"
   ]
  },
  {
   "cell_type": "markdown",
   "id": "e5342c54-6878-4822-aeb4-48c196f82fd7",
   "metadata": {},
   "source": [
    "Append metadata to the package"
   ]
  },
  {
   "cell_type": "code",
   "execution_count": 29,
   "id": "fafa84e6-a1f4-43ef-ac78-3fa5c34d1225",
   "metadata": {},
   "outputs": [
    {
     "data": {
      "text/plain": [
       "(local Package)\n",
       " └─test_data/\n",
       "   └─SSF211.fasta\n",
       "   └─annot.emapper.annotations\n",
       "   └─annot.emapper.hits\n",
       "   └─annot.emapper.seed_orthologs\n",
       "   └─annot.faa\n",
       "   └─annot.faa.diamond.csv\n",
       "   └─annot.faa.gff3\n",
       "   └─annot.faa.json\n",
       "   └─annot.faa.rgi.output.json\n",
       "   └─annot.faa.rgi.output.txt\n",
       "   └─annot.faa.tsv\n",
       "   └─annot.faa.xml\n",
       "   └─annot.fasta\n",
       "   └─annot.fna\n",
       "   └─annot.gbk\n",
       "   └─annot.gff\n",
       "   └─annot.sqn\n",
       "   └─annot/\n",
       "   └─annot_cds_from_genomic.fna\n",
       " ..."
      ]
     },
     "execution_count": 29,
     "metadata": {},
     "output_type": "execute_result"
    }
   ],
   "source": [
    "# Define metadata  \n",
    "metadata = {  \n",
    "    'description': 'This is a test package.',  \n",
    "    'uploaded_by': 'Alena Alekseeva',  \n",
    "    'owner': 'Alena Alekseeva',  \n",
    "    'date_of_upload': '2024-08-14',  \n",
    "    'project::project_name': 'testproject',\n",
    "    'project::project_id': '11452', \n",
    "    'sample::sample_name': 'SSF211', \n",
    "    'experiment::biological_experiment_type': 'NA sequencing', \n",
    "    'seqencing::sequencing_experiment_type': 'Whole Genome', \n",
    "    'seqencing::sequencing _technology': 'ONT MinION'\n",
    "}  \n",
    "  \n",
    "# Append metadata to the package  \n",
    "p.set_meta(metadata)  "
   ]
  },
  {
   "cell_type": "markdown",
   "id": "47b945fa-e5aa-4856-9f30-0cf03e7b2ce2",
   "metadata": {},
   "source": [
    "Push package to Quilt"
   ]
  },
  {
   "cell_type": "code",
   "execution_count": 31,
   "id": "be49f173-965e-4ae7-bc40-cfb4c8e576d1",
   "metadata": {},
   "outputs": [
    {
     "name": "stderr",
     "output_type": "stream",
     "text": [
      "Hashing: 100%|██████████| 2.95G/2.95G [00:02<00:00, 1.29GB/s]\n",
      "Copying objects: 100%|██████████| 2.95G/2.95G [03:32<00:00, 13.9MB/s]    \n"
     ]
    },
    {
     "name": "stdout",
     "output_type": "stream",
     "text": [
      "Package alenaalekseeva/experiment_2@b6961ec pushed to s3://bioinformatics-quilt-poc\n",
      "Successfully pushed the new package to https://quiltpoc.ecicl.cloud.syngenta.org/b/bioinformatics-quilt-poc/packages/alenaalekseeva/experiment_2\n"
     ]
    },
    {
     "data": {
      "text/plain": [
       "(remote Package)\n",
       " └─test_data/\n",
       "   └─SSF211.fasta\n",
       "   └─annot.emapper.annotations\n",
       "   └─annot.emapper.hits\n",
       "   └─annot.emapper.seed_orthologs\n",
       "   └─annot.faa\n",
       "   └─annot.faa.diamond.csv\n",
       "   └─annot.faa.gff3\n",
       "   └─annot.faa.json\n",
       "   └─annot.faa.rgi.output.json\n",
       "   └─annot.faa.rgi.output.txt\n",
       "   └─annot.faa.tsv\n",
       "   └─annot.faa.xml\n",
       "   └─annot.fasta\n",
       "   └─annot.fna\n",
       "   └─annot.gbk\n",
       "   └─annot.gff\n",
       "   └─annot.sqn\n",
       "   └─annot/\n",
       "   └─annot_cds_from_genomic.fna\n",
       " ..."
      ]
     },
     "execution_count": 31,
     "metadata": {},
     "output_type": "execute_result"
    }
   ],
   "source": [
    "#p.build(package_name) \n",
    "p.push(quilt_package_name, registry=s3_bucket, message=\"Upload new SSF2111 data\") "
   ]
  },
  {
   "cell_type": "markdown",
   "id": "036f224f-b2ec-4f49-aa33-8c5881eea584",
   "metadata": {},
   "source": [
    "# 3. Adding Data to Existing Packag"
   ]
  },
  {
   "cell_type": "markdown",
   "id": "474940f4-c079-4295-823a-90ee838a8386",
   "metadata": {},
   "source": [
    "Creating a reference to the existing Quilt packagee"
   ]
  },
  {
   "cell_type": "code",
   "execution_count": 46,
   "id": "ed70c3c7",
   "metadata": {},
   "outputs": [
    {
     "name": "stderr",
     "output_type": "stream",
     "text": [
      "Downloading manifest: 100%|██████████| 21.7k/21.7k [00:01<00:00, 17.3kB/s]\n",
      "Loading manifest: 100%|██████████| 57/57 [00:00<00:00, 28.5k/s]\n",
      "Copying objects: 100%|██████████| 70.0M/70.0M [00:11<00:00, 5.86MB/s]\n"
     ]
    },
    {
     "name": "stdout",
     "output_type": "stream",
     "text": [
      "Successfully installed package 'stanislavzhurich/experiment_1', tophash=33f634e from s3://bioinformatics-quilt-poc\n"
     ]
    },
    {
     "name": "stderr",
     "output_type": "stream",
     "text": [
      "Loading manifest: 100%|██████████| 57/57 [00:00<00:00, 28.6k/s]\n"
     ]
    }
   ],
   "source": [
    "quilt3.Package.install(quilt_package_name, s3_bucket) \n",
    "p = quilt3.Package.browse(quilt_package_name)"
   ]
  },
  {
   "cell_type": "markdown",
   "id": "e64ec796-f8fb-4ba5-97c4-ae9a79f754a5",
   "metadata": {},
   "source": [
    "List existing files in the package"
   ]
  },
  {
   "cell_type": "code",
   "execution_count": 47,
   "id": "c086d752-f7fb-4ab5-ab90-e0801720026a",
   "metadata": {},
   "outputs": [
    {
     "name": "stdout",
     "output_type": "stream",
     "text": [
      "Path: fastq_data/barcode01/FAY94205_pass_barcode01_8c8775d2_abfa6b24_0.fastq.gz, Entry: PackageEntry('s3://bioinformatics-quilt-poc/stanislavzhurich/experiment_1/fastq_data/barcode01/FAY94205_pass_barcode01_8c8775d2_abfa6b24_0.fastq.gz')\n",
      "Path: fastq_data/barcode01/FAY94205_pass_barcode01_8c8775d2_abfa6b24_1.fastq.gz, Entry: PackageEntry('s3://bioinformatics-quilt-poc/stanislavzhurich/experiment_1/fastq_data/barcode01/FAY94205_pass_barcode01_8c8775d2_abfa6b24_1.fastq.gz')\n",
      "Path: fastq_data/barcode01/FAY94205_pass_barcode01_8c8775d2_abfa6b24_10.fastq.gz, Entry: PackageEntry('s3://bioinformatics-quilt-poc/stanislavzhurich/experiment_1/fastq_data/barcode01/FAY94205_pass_barcode01_8c8775d2_abfa6b24_10.fastq.gz')\n",
      "Path: fastq_data/barcode01/FAY94205_pass_barcode01_8c8775d2_abfa6b24_11.fastq.gz, Entry: PackageEntry('s3://bioinformatics-quilt-poc/stanislavzhurich/experiment_1/fastq_data/barcode01/FAY94205_pass_barcode01_8c8775d2_abfa6b24_11.fastq.gz')\n",
      "Path: fastq_data/barcode01/FAY94205_pass_barcode01_8c8775d2_abfa6b24_12.fastq.gz, Entry: PackageEntry('s3://bioinformatics-quilt-poc/stanislavzhurich/experiment_1/fastq_data/barcode01/FAY94205_pass_barcode01_8c8775d2_abfa6b24_12.fastq.gz')\n",
      "Path: fastq_data/barcode01/FAY94205_pass_barcode01_8c8775d2_abfa6b24_13.fastq.gz, Entry: PackageEntry('s3://bioinformatics-quilt-poc/stanislavzhurich/experiment_1/fastq_data/barcode01/FAY94205_pass_barcode01_8c8775d2_abfa6b24_13.fastq.gz')\n",
      "Path: fastq_data/barcode01/FAY94205_pass_barcode01_8c8775d2_abfa6b24_14.fastq.gz, Entry: PackageEntry('s3://bioinformatics-quilt-poc/stanislavzhurich/experiment_1/fastq_data/barcode01/FAY94205_pass_barcode01_8c8775d2_abfa6b24_14.fastq.gz')\n",
      "Path: fastq_data/barcode01/FAY94205_pass_barcode01_8c8775d2_abfa6b24_15.fastq.gz, Entry: PackageEntry('s3://bioinformatics-quilt-poc/stanislavzhurich/experiment_1/fastq_data/barcode01/FAY94205_pass_barcode01_8c8775d2_abfa6b24_15.fastq.gz')\n",
      "Path: fastq_data/barcode01/FAY94205_pass_barcode01_8c8775d2_abfa6b24_16.fastq.gz, Entry: PackageEntry('s3://bioinformatics-quilt-poc/stanislavzhurich/experiment_1/fastq_data/barcode01/FAY94205_pass_barcode01_8c8775d2_abfa6b24_16.fastq.gz')\n",
      "Path: fastq_data/barcode01/FAY94205_pass_barcode01_8c8775d2_abfa6b24_17.fastq.gz, Entry: PackageEntry('s3://bioinformatics-quilt-poc/stanislavzhurich/experiment_1/fastq_data/barcode01/FAY94205_pass_barcode01_8c8775d2_abfa6b24_17.fastq.gz')\n",
      "Path: fastq_data/barcode01/FAY94205_pass_barcode01_8c8775d2_abfa6b24_18.fastq.gz, Entry: PackageEntry('s3://bioinformatics-quilt-poc/stanislavzhurich/experiment_1/fastq_data/barcode01/FAY94205_pass_barcode01_8c8775d2_abfa6b24_18.fastq.gz')\n",
      "Path: fastq_data/barcode01/FAY94205_pass_barcode01_8c8775d2_abfa6b24_19.fastq.gz, Entry: PackageEntry('s3://bioinformatics-quilt-poc/stanislavzhurich/experiment_1/fastq_data/barcode01/FAY94205_pass_barcode01_8c8775d2_abfa6b24_19.fastq.gz')\n",
      "Path: fastq_data/barcode01/FAY94205_pass_barcode01_8c8775d2_abfa6b24_2.fastq.gz, Entry: PackageEntry('s3://bioinformatics-quilt-poc/stanislavzhurich/experiment_1/fastq_data/barcode01/FAY94205_pass_barcode01_8c8775d2_abfa6b24_2.fastq.gz')\n",
      "Path: fastq_data/barcode01/FAY94205_pass_barcode01_8c8775d2_abfa6b24_20.fastq.gz, Entry: PackageEntry('s3://bioinformatics-quilt-poc/stanislavzhurich/experiment_1/fastq_data/barcode01/FAY94205_pass_barcode01_8c8775d2_abfa6b24_20.fastq.gz')\n",
      "Path: fastq_data/barcode01/FAY94205_pass_barcode01_8c8775d2_abfa6b24_21.fastq.gz, Entry: PackageEntry('s3://bioinformatics-quilt-poc/stanislavzhurich/experiment_1/fastq_data/barcode01/FAY94205_pass_barcode01_8c8775d2_abfa6b24_21.fastq.gz')\n",
      "Path: fastq_data/barcode01/FAY94205_pass_barcode01_8c8775d2_abfa6b24_22.fastq.gz, Entry: PackageEntry('s3://bioinformatics-quilt-poc/stanislavzhurich/experiment_1/fastq_data/barcode01/FAY94205_pass_barcode01_8c8775d2_abfa6b24_22.fastq.gz')\n",
      "Path: fastq_data/barcode01/FAY94205_pass_barcode01_8c8775d2_abfa6b24_23.fastq.gz, Entry: PackageEntry('s3://bioinformatics-quilt-poc/stanislavzhurich/experiment_1/fastq_data/barcode01/FAY94205_pass_barcode01_8c8775d2_abfa6b24_23.fastq.gz')\n",
      "Path: fastq_data/barcode01/FAY94205_pass_barcode01_8c8775d2_abfa6b24_24.fastq.gz, Entry: PackageEntry('s3://bioinformatics-quilt-poc/stanislavzhurich/experiment_1/fastq_data/barcode01/FAY94205_pass_barcode01_8c8775d2_abfa6b24_24.fastq.gz')\n",
      "Path: fastq_data/barcode01/FAY94205_pass_barcode01_8c8775d2_abfa6b24_25.fastq.gz, Entry: PackageEntry('s3://bioinformatics-quilt-poc/stanislavzhurich/experiment_1/fastq_data/barcode01/FAY94205_pass_barcode01_8c8775d2_abfa6b24_25.fastq.gz')\n",
      "Path: fastq_data/barcode01/FAY94205_pass_barcode01_8c8775d2_abfa6b24_26.fastq.gz, Entry: PackageEntry('s3://bioinformatics-quilt-poc/stanislavzhurich/experiment_1/fastq_data/barcode01/FAY94205_pass_barcode01_8c8775d2_abfa6b24_26.fastq.gz')\n",
      "Path: fastq_data/barcode01/FAY94205_pass_barcode01_8c8775d2_abfa6b24_27.fastq.gz, Entry: PackageEntry('s3://bioinformatics-quilt-poc/stanislavzhurich/experiment_1/fastq_data/barcode01/FAY94205_pass_barcode01_8c8775d2_abfa6b24_27.fastq.gz')\n",
      "Path: fastq_data/barcode01/FAY94205_pass_barcode01_8c8775d2_abfa6b24_3.fastq.gz, Entry: PackageEntry('s3://bioinformatics-quilt-poc/stanislavzhurich/experiment_1/fastq_data/barcode01/FAY94205_pass_barcode01_8c8775d2_abfa6b24_3.fastq.gz')\n",
      "Path: fastq_data/barcode01/FAY94205_pass_barcode01_8c8775d2_abfa6b24_4.fastq.gz, Entry: PackageEntry('s3://bioinformatics-quilt-poc/stanislavzhurich/experiment_1/fastq_data/barcode01/FAY94205_pass_barcode01_8c8775d2_abfa6b24_4.fastq.gz')\n",
      "Path: fastq_data/barcode01/FAY94205_pass_barcode01_8c8775d2_abfa6b24_5.fastq.gz, Entry: PackageEntry('s3://bioinformatics-quilt-poc/stanislavzhurich/experiment_1/fastq_data/barcode01/FAY94205_pass_barcode01_8c8775d2_abfa6b24_5.fastq.gz')\n",
      "Path: fastq_data/barcode01/FAY94205_pass_barcode01_8c8775d2_abfa6b24_6.fastq.gz, Entry: PackageEntry('s3://bioinformatics-quilt-poc/stanislavzhurich/experiment_1/fastq_data/barcode01/FAY94205_pass_barcode01_8c8775d2_abfa6b24_6.fastq.gz')\n",
      "Path: fastq_data/barcode01/FAY94205_pass_barcode01_8c8775d2_abfa6b24_7.fastq.gz, Entry: PackageEntry('s3://bioinformatics-quilt-poc/stanislavzhurich/experiment_1/fastq_data/barcode01/FAY94205_pass_barcode01_8c8775d2_abfa6b24_7.fastq.gz')\n",
      "Path: fastq_data/barcode01/FAY94205_pass_barcode01_8c8775d2_abfa6b24_8.fastq.gz, Entry: PackageEntry('s3://bioinformatics-quilt-poc/stanislavzhurich/experiment_1/fastq_data/barcode01/FAY94205_pass_barcode01_8c8775d2_abfa6b24_8.fastq.gz')\n",
      "Path: fastq_data/barcode01/FAY94205_pass_barcode01_8c8775d2_abfa6b24_9.fastq.gz, Entry: PackageEntry('s3://bioinformatics-quilt-poc/stanislavzhurich/experiment_1/fastq_data/barcode01/FAY94205_pass_barcode01_8c8775d2_abfa6b24_9.fastq.gz')\n",
      "Path: fastq_data/barcode02/FAY94205_pass_barcode02_8c8775d2_abfa6b24_0.fastq.gz, Entry: PackageEntry('s3://bioinformatics-quilt-poc/stanislavzhurich/experiment_1/fastq_data/barcode02/FAY94205_pass_barcode02_8c8775d2_abfa6b24_0.fastq.gz')\n",
      "Path: fastq_data/barcode02/FAY94205_pass_barcode02_8c8775d2_abfa6b24_1.fastq.gz, Entry: PackageEntry('s3://bioinformatics-quilt-poc/stanislavzhurich/experiment_1/fastq_data/barcode02/FAY94205_pass_barcode02_8c8775d2_abfa6b24_1.fastq.gz')\n",
      "Path: fastq_data/barcode02/FAY94205_pass_barcode02_8c8775d2_abfa6b24_10.fastq.gz, Entry: PackageEntry('s3://bioinformatics-quilt-poc/stanislavzhurich/experiment_1/fastq_data/barcode02/FAY94205_pass_barcode02_8c8775d2_abfa6b24_10.fastq.gz')\n",
      "Path: fastq_data/barcode02/FAY94205_pass_barcode02_8c8775d2_abfa6b24_11.fastq.gz, Entry: PackageEntry('s3://bioinformatics-quilt-poc/stanislavzhurich/experiment_1/fastq_data/barcode02/FAY94205_pass_barcode02_8c8775d2_abfa6b24_11.fastq.gz')\n",
      "Path: fastq_data/barcode02/FAY94205_pass_barcode02_8c8775d2_abfa6b24_12.fastq.gz, Entry: PackageEntry('s3://bioinformatics-quilt-poc/stanislavzhurich/experiment_1/fastq_data/barcode02/FAY94205_pass_barcode02_8c8775d2_abfa6b24_12.fastq.gz')\n",
      "Path: fastq_data/barcode02/FAY94205_pass_barcode02_8c8775d2_abfa6b24_13.fastq.gz, Entry: PackageEntry('s3://bioinformatics-quilt-poc/stanislavzhurich/experiment_1/fastq_data/barcode02/FAY94205_pass_barcode02_8c8775d2_abfa6b24_13.fastq.gz')\n",
      "Path: fastq_data/barcode02/FAY94205_pass_barcode02_8c8775d2_abfa6b24_14.fastq.gz, Entry: PackageEntry('s3://bioinformatics-quilt-poc/stanislavzhurich/experiment_1/fastq_data/barcode02/FAY94205_pass_barcode02_8c8775d2_abfa6b24_14.fastq.gz')\n",
      "Path: fastq_data/barcode02/FAY94205_pass_barcode02_8c8775d2_abfa6b24_15.fastq.gz, Entry: PackageEntry('s3://bioinformatics-quilt-poc/stanislavzhurich/experiment_1/fastq_data/barcode02/FAY94205_pass_barcode02_8c8775d2_abfa6b24_15.fastq.gz')\n",
      "Path: fastq_data/barcode02/FAY94205_pass_barcode02_8c8775d2_abfa6b24_16.fastq.gz, Entry: PackageEntry('s3://bioinformatics-quilt-poc/stanislavzhurich/experiment_1/fastq_data/barcode02/FAY94205_pass_barcode02_8c8775d2_abfa6b24_16.fastq.gz')\n",
      "Path: fastq_data/barcode02/FAY94205_pass_barcode02_8c8775d2_abfa6b24_17.fastq.gz, Entry: PackageEntry('s3://bioinformatics-quilt-poc/stanislavzhurich/experiment_1/fastq_data/barcode02/FAY94205_pass_barcode02_8c8775d2_abfa6b24_17.fastq.gz')\n",
      "Path: fastq_data/barcode02/FAY94205_pass_barcode02_8c8775d2_abfa6b24_18.fastq.gz, Entry: PackageEntry('s3://bioinformatics-quilt-poc/stanislavzhurich/experiment_1/fastq_data/barcode02/FAY94205_pass_barcode02_8c8775d2_abfa6b24_18.fastq.gz')\n",
      "Path: fastq_data/barcode02/FAY94205_pass_barcode02_8c8775d2_abfa6b24_19.fastq.gz, Entry: PackageEntry('s3://bioinformatics-quilt-poc/stanislavzhurich/experiment_1/fastq_data/barcode02/FAY94205_pass_barcode02_8c8775d2_abfa6b24_19.fastq.gz')\n",
      "Path: fastq_data/barcode02/FAY94205_pass_barcode02_8c8775d2_abfa6b24_2.fastq.gz, Entry: PackageEntry('s3://bioinformatics-quilt-poc/stanislavzhurich/experiment_1/fastq_data/barcode02/FAY94205_pass_barcode02_8c8775d2_abfa6b24_2.fastq.gz')\n",
      "Path: fastq_data/barcode02/FAY94205_pass_barcode02_8c8775d2_abfa6b24_20.fastq.gz, Entry: PackageEntry('s3://bioinformatics-quilt-poc/stanislavzhurich/experiment_1/fastq_data/barcode02/FAY94205_pass_barcode02_8c8775d2_abfa6b24_20.fastq.gz')\n",
      "Path: fastq_data/barcode02/FAY94205_pass_barcode02_8c8775d2_abfa6b24_21.fastq.gz, Entry: PackageEntry('s3://bioinformatics-quilt-poc/stanislavzhurich/experiment_1/fastq_data/barcode02/FAY94205_pass_barcode02_8c8775d2_abfa6b24_21.fastq.gz')\n",
      "Path: fastq_data/barcode02/FAY94205_pass_barcode02_8c8775d2_abfa6b24_22.fastq.gz, Entry: PackageEntry('s3://bioinformatics-quilt-poc/stanislavzhurich/experiment_1/fastq_data/barcode02/FAY94205_pass_barcode02_8c8775d2_abfa6b24_22.fastq.gz')\n",
      "Path: fastq_data/barcode02/FAY94205_pass_barcode02_8c8775d2_abfa6b24_23.fastq.gz, Entry: PackageEntry('s3://bioinformatics-quilt-poc/stanislavzhurich/experiment_1/fastq_data/barcode02/FAY94205_pass_barcode02_8c8775d2_abfa6b24_23.fastq.gz')\n",
      "Path: fastq_data/barcode02/FAY94205_pass_barcode02_8c8775d2_abfa6b24_24.fastq.gz, Entry: PackageEntry('s3://bioinformatics-quilt-poc/stanislavzhurich/experiment_1/fastq_data/barcode02/FAY94205_pass_barcode02_8c8775d2_abfa6b24_24.fastq.gz')\n",
      "Path: fastq_data/barcode02/FAY94205_pass_barcode02_8c8775d2_abfa6b24_25.fastq.gz, Entry: PackageEntry('s3://bioinformatics-quilt-poc/stanislavzhurich/experiment_1/fastq_data/barcode02/FAY94205_pass_barcode02_8c8775d2_abfa6b24_25.fastq.gz')\n",
      "Path: fastq_data/barcode02/FAY94205_pass_barcode02_8c8775d2_abfa6b24_26.fastq.gz, Entry: PackageEntry('s3://bioinformatics-quilt-poc/stanislavzhurich/experiment_1/fastq_data/barcode02/FAY94205_pass_barcode02_8c8775d2_abfa6b24_26.fastq.gz')\n",
      "Path: fastq_data/barcode02/FAY94205_pass_barcode02_8c8775d2_abfa6b24_27.fastq.gz, Entry: PackageEntry('s3://bioinformatics-quilt-poc/stanislavzhurich/experiment_1/fastq_data/barcode02/FAY94205_pass_barcode02_8c8775d2_abfa6b24_27.fastq.gz')\n",
      "Path: fastq_data/barcode02/FAY94205_pass_barcode02_8c8775d2_abfa6b24_3.fastq.gz, Entry: PackageEntry('s3://bioinformatics-quilt-poc/stanislavzhurich/experiment_1/fastq_data/barcode02/FAY94205_pass_barcode02_8c8775d2_abfa6b24_3.fastq.gz')\n",
      "Path: fastq_data/barcode02/FAY94205_pass_barcode02_8c8775d2_abfa6b24_4.fastq.gz, Entry: PackageEntry('s3://bioinformatics-quilt-poc/stanislavzhurich/experiment_1/fastq_data/barcode02/FAY94205_pass_barcode02_8c8775d2_abfa6b24_4.fastq.gz')\n",
      "Path: fastq_data/barcode02/FAY94205_pass_barcode02_8c8775d2_abfa6b24_5.fastq.gz, Entry: PackageEntry('s3://bioinformatics-quilt-poc/stanislavzhurich/experiment_1/fastq_data/barcode02/FAY94205_pass_barcode02_8c8775d2_abfa6b24_5.fastq.gz')\n",
      "Path: fastq_data/barcode02/FAY94205_pass_barcode02_8c8775d2_abfa6b24_6.fastq.gz, Entry: PackageEntry('s3://bioinformatics-quilt-poc/stanislavzhurich/experiment_1/fastq_data/barcode02/FAY94205_pass_barcode02_8c8775d2_abfa6b24_6.fastq.gz')\n",
      "Path: fastq_data/barcode02/FAY94205_pass_barcode02_8c8775d2_abfa6b24_7.fastq.gz, Entry: PackageEntry('s3://bioinformatics-quilt-poc/stanislavzhurich/experiment_1/fastq_data/barcode02/FAY94205_pass_barcode02_8c8775d2_abfa6b24_7.fastq.gz')\n",
      "Path: fastq_data/barcode02/FAY94205_pass_barcode02_8c8775d2_abfa6b24_8.fastq.gz, Entry: PackageEntry('s3://bioinformatics-quilt-poc/stanislavzhurich/experiment_1/fastq_data/barcode02/FAY94205_pass_barcode02_8c8775d2_abfa6b24_8.fastq.gz')\n",
      "Path: fastq_data/barcode02/FAY94205_pass_barcode02_8c8775d2_abfa6b24_9.fastq.gz, Entry: PackageEntry('s3://bioinformatics-quilt-poc/stanislavzhurich/experiment_1/fastq_data/barcode02/FAY94205_pass_barcode02_8c8775d2_abfa6b24_9.fastq.gz')\n"
     ]
    }
   ],
   "source": [
    "for path, entry in p.walk():  \n",
    "    print(f\"Path: {path}, Entry: {entry}\") "
   ]
  },
  {
   "cell_type": "markdown",
   "id": "870f2ac1-ef2c-4f0a-ac77-619c60c10015",
   "metadata": {},
   "source": [
    "Adding new file to existing package"
   ]
  },
  {
   "cell_type": "code",
   "execution_count": 48,
   "id": "c06a851f-4b44-471e-a82d-7a75a968a4e7",
   "metadata": {},
   "outputs": [
    {
     "data": {
      "text/plain": [
       "(remote Package)\n",
       " └─fastq_data/\n",
       "   └─barcode01/\n",
       "     └─FAY94205_pass_barcode01_8c8775d2_abfa6b24_0.fastq.gz\n",
       "     └─FAY94205_pass_barcode01_8c8775d2_abfa6b24_1.fastq.gz\n",
       "     └─FAY94205_pass_barcode01_8c8775d2_abfa6b24_10.fastq.gz\n",
       "     └─FAY94205_pass_barcode01_8c8775d2_abfa6b24_11.fastq.gz\n",
       "     └─FAY94205_pass_barcode01_8c8775d2_abfa6b24_12.fastq.gz\n",
       "     └─FAY94205_pass_barcode01_8c8775d2_abfa6b24_13.fastq.gz\n",
       "     └─FAY94205_pass_barcode01_8c8775d2_abfa6b24_14.fastq.gz\n",
       "     └─FAY94205_pass_barcode01_8c8775d2_abfa6b24_15.fastq.gz\n",
       "     └─FAY94205_pass_barcode01_8c8775d2_abfa6b24_16.fastq.gz\n",
       "     └─FAY94205_pass_barcode01_8c8775d2_abfa6b24_17.fastq.gz\n",
       "     └─FAY94205_pass_barcode01_8c8775d2_abfa6b24_18.fastq.gz\n",
       "     └─FAY94205_pass_barcode01_8c8775d2_abfa6b24_19.fastq.gz\n",
       "     └─FAY94205_pass_barcode01_8c8775d2_abfa6b24_2.fastq.gz\n",
       "     └─FAY94205_pass_barcode01_8c8775d2_abfa6b24_20.fastq.gz\n",
       "     └─FAY94205_pass_barcode01_8c8775d2_abfa6b24_21.fastq.gz\n",
       "     └─FAY94205_pass_barcode01_8c8775d2_abfa6b24_22.fastq.gz\n",
       "   └─barcode02/\n",
       " └─sample_sheet_data\n",
       " ..."
      ]
     },
     "execution_count": 48,
     "metadata": {},
     "output_type": "execute_result"
    }
   ],
   "source": [
    "p.set(quilt_package_samplesheet_path, local_samplesheet_file_name)"
   ]
  },
  {
   "cell_type": "markdown",
   "id": "c7dd940a-517e-4945-bf02-6d2f19f766b8",
   "metadata": {},
   "source": [
    "Storing sample sheet to Quilt"
   ]
  },
  {
   "cell_type": "code",
   "execution_count": 49,
   "id": "501aad9b",
   "metadata": {},
   "outputs": [
    {
     "name": "stderr",
     "output_type": "stream",
     "text": [
      "Hashing: 100%|██████████| 401/401 [00:00<00:00, 200kB/s]\n",
      "Copying objects: 100%|██████████| 401/401 [00:01<00:00, 280B/s]\n"
     ]
    },
    {
     "name": "stdout",
     "output_type": "stream",
     "text": [
      "Package stanislavzhurich/experiment_1@51cdbdd pushed to s3://bioinformatics-quilt-poc\n",
      "Successfully pushed the new package to https://quiltpoc.ecicl.cloud.syngenta.org/b/bioinformatics-quilt-poc/packages/stanislavzhurich/experiment_1\n"
     ]
    },
    {
     "data": {
      "text/plain": [
       "(remote Package)\n",
       " └─fastq_data/\n",
       "   └─barcode01/\n",
       "     └─FAY94205_pass_barcode01_8c8775d2_abfa6b24_0.fastq.gz\n",
       "     └─FAY94205_pass_barcode01_8c8775d2_abfa6b24_1.fastq.gz\n",
       "     └─FAY94205_pass_barcode01_8c8775d2_abfa6b24_10.fastq.gz\n",
       "     └─FAY94205_pass_barcode01_8c8775d2_abfa6b24_11.fastq.gz\n",
       "     └─FAY94205_pass_barcode01_8c8775d2_abfa6b24_12.fastq.gz\n",
       "     └─FAY94205_pass_barcode01_8c8775d2_abfa6b24_13.fastq.gz\n",
       "     └─FAY94205_pass_barcode01_8c8775d2_abfa6b24_14.fastq.gz\n",
       "     └─FAY94205_pass_barcode01_8c8775d2_abfa6b24_15.fastq.gz\n",
       "     └─FAY94205_pass_barcode01_8c8775d2_abfa6b24_16.fastq.gz\n",
       "     └─FAY94205_pass_barcode01_8c8775d2_abfa6b24_17.fastq.gz\n",
       "     └─FAY94205_pass_barcode01_8c8775d2_abfa6b24_18.fastq.gz\n",
       "     └─FAY94205_pass_barcode01_8c8775d2_abfa6b24_19.fastq.gz\n",
       "     └─FAY94205_pass_barcode01_8c8775d2_abfa6b24_2.fastq.gz\n",
       "     └─FAY94205_pass_barcode01_8c8775d2_abfa6b24_20.fastq.gz\n",
       "     └─FAY94205_pass_barcode01_8c8775d2_abfa6b24_21.fastq.gz\n",
       "     └─FAY94205_pass_barcode01_8c8775d2_abfa6b24_22.fastq.gz\n",
       "   └─barcode02/\n",
       " └─sample_sheet_data\n",
       " ..."
      ]
     },
     "execution_count": 49,
     "metadata": {},
     "output_type": "execute_result"
    }
   ],
   "source": [
    "p.push(quilt_package_name, registry=s3_bucket, message=\"Upload sample sheet file\") "
   ]
  },
  {
   "cell_type": "markdown",
   "id": "86d8716d-ed73-4115-8332-eed9093af3d4",
   "metadata": {},
   "source": [
    "# 4.Delete Package"
   ]
  },
  {
   "cell_type": "code",
   "execution_count": 40,
   "id": "be00925a-76ca-41b5-93d5-b8f14631780f",
   "metadata": {},
   "outputs": [],
   "source": [
    " quilt3.delete_package(quilt_package_name, s3_bucket) "
   ]
  },
  {
   "cell_type": "code",
   "execution_count": null,
   "id": "7d1984ba-591e-4642-b101-6356742e5f7c",
   "metadata": {},
   "outputs": [],
   "source": []
  }
 ],
 "metadata": {
  "kernelspec": {
   "display_name": "Python 3 (ipykernel)",
   "language": "python",
   "name": "python3"
  },
  "language_info": {
   "codemirror_mode": {
    "name": "ipython",
    "version": 3
   },
   "file_extension": ".py",
   "mimetype": "text/x-python",
   "name": "python",
   "nbconvert_exporter": "python",
   "pygments_lexer": "ipython3",
   "version": "3.12.4"
  }
 },
 "nbformat": 4,
 "nbformat_minor": 5
}
