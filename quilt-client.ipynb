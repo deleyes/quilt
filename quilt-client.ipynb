{
 "cells": [
  {
   "cell_type": "markdown",
   "id": "a66eae72-4e44-4730-a576-cd9c9a75976e",
   "metadata": {},
   "source": [
    "# Reference Materials\n",
    "- Documentation: https://docs.quiltdata.com/\n",
    "- Quilt Web Portal: https://quiltpoc.ecicl.cloud.syngenta.org/\n"
   ]
  },
  {
   "cell_type": "code",
   "id": "b694ac9b-eb0e-417d-9fb7-a774a4d7f4a7",
   "metadata": {
    "ExecuteTime": {
     "end_time": "2024-09-14T13:17:55.723639Z",
     "start_time": "2024-09-14T13:17:10.788480Z"
    }
   },
   "source": "!pip install 'quilt3[catalog,pyarrow]'",
   "outputs": [
    {
     "name": "stdout",
     "output_type": "stream",
     "text": [
      "Requirement already satisfied: quilt3[catalog,pyarrow] in ./venv/lib/python3.10/site-packages (6.0.0)\r\n",
      "Requirement already satisfied: tenacity!=8.4.0,>=5.1.1 in ./venv/lib/python3.10/site-packages (from quilt3[catalog,pyarrow]) (9.0.0)\r\n",
      "Requirement already satisfied: requests>=2.12.4 in ./venv/lib/python3.10/site-packages (from quilt3[catalog,pyarrow]) (2.32.3)\r\n",
      "Requirement already satisfied: jsonschema<5,>=3 in ./venv/lib/python3.10/site-packages (from quilt3[catalog,pyarrow]) (4.23.0)\r\n",
      "Requirement already satisfied: PyYAML>=5.1 in ./venv/lib/python3.10/site-packages (from quilt3[catalog,pyarrow]) (6.0.2)\r\n",
      "Requirement already satisfied: platformdirs>=2 in ./venv/lib/python3.10/site-packages (from quilt3[catalog,pyarrow]) (4.3.2)\r\n",
      "Requirement already satisfied: requests-futures==1.0.0 in ./venv/lib/python3.10/site-packages (from quilt3[catalog,pyarrow]) (1.0.0)\r\n",
      "Requirement already satisfied: pydantic<3.0.0,>=2.0.0 in ./venv/lib/python3.10/site-packages (from quilt3[catalog,pyarrow]) (2.9.1)\r\n",
      "Requirement already satisfied: boto3>=1.21.7 in ./venv/lib/python3.10/site-packages (from quilt3[catalog,pyarrow]) (1.35.15)\r\n",
      "Requirement already satisfied: tqdm>=4.32 in ./venv/lib/python3.10/site-packages (from quilt3[catalog,pyarrow]) (4.66.5)\r\n",
      "Requirement already satisfied: jsonlines==1.2.0 in ./venv/lib/python3.10/site-packages (from quilt3[catalog,pyarrow]) (1.2.0)\r\n",
      "Requirement already satisfied: numpy>=1.14.0 in ./venv/lib/python3.10/site-packages (from quilt3[catalog,pyarrow]) (2.1.1)\r\n",
      "Requirement already satisfied: pandas>=0.19.2 in ./venv/lib/python3.10/site-packages (from quilt3[catalog,pyarrow]) (2.2.2)\r\n",
      "Requirement already satisfied: pyarrow>=0.14.1 in ./venv/lib/python3.10/site-packages (from quilt3[catalog,pyarrow]) (17.0.0)\r\n",
      "Collecting uvicorn<0.18,>=0.15\r\n",
      "  Downloading uvicorn-0.17.6-py3-none-any.whl (53 kB)\r\n",
      "\u001B[2K     \u001B[90m━━━━━━━━━━━━━━━━━━━━━━━━━━━━━━━━━━━━━━━━\u001B[0m \u001B[32m53.6/53.6 kB\u001B[0m \u001B[31m1.4 MB/s\u001B[0m eta \u001B[36m0:00:00\u001B[0m\r\n",
      "\u001B[?25hCollecting aiobotocore[boto3]>=2\r\n",
      "  Downloading aiobotocore-2.15.0-py3-none-any.whl (77 kB)\r\n",
      "\u001B[2K     \u001B[90m━━━━━━━━━━━━━━━━━━━━━━━━━━━━━━━━━━━━━━━━\u001B[0m \u001B[32m77.4/77.4 kB\u001B[0m \u001B[31m4.4 MB/s\u001B[0m eta \u001B[36m0:00:00\u001B[0m\r\n",
      "\u001B[?25hCollecting quilt3-local<2,>=1\r\n",
      "  Downloading quilt3_local-1.2.1-py3-none-any.whl (38.7 MB)\r\n",
      "\u001B[2K     \u001B[90m━━━━━━━━━━━━━━━━━━━━━━━━━━━━━━━━━━━━━━━━\u001B[0m \u001B[32m38.7/38.7 MB\u001B[0m \u001B[31m6.5 MB/s\u001B[0m eta \u001B[36m0:00:00\u001B[0m00:01\u001B[0m00:01\u001B[0mm\r\n",
      "\u001B[?25hRequirement already satisfied: six in ./venv/lib/python3.10/site-packages (from jsonlines==1.2.0->quilt3[catalog,pyarrow]) (1.16.0)\r\n",
      "Collecting aioitertools<1.0.0,>=0.5.1\r\n",
      "  Downloading aioitertools-0.12.0-py3-none-any.whl (24 kB)\r\n",
      "Collecting botocore<1.35.17,>=1.35.16\r\n",
      "  Downloading botocore-1.35.16-py3-none-any.whl (12.5 MB)\r\n",
      "\u001B[2K     \u001B[90m━━━━━━━━━━━━━━━━━━━━━━━━━━━━━━━━━━━━━━━━\u001B[0m \u001B[32m12.5/12.5 MB\u001B[0m \u001B[31m11.5 MB/s\u001B[0m eta \u001B[36m0:00:00\u001B[0m00:01\u001B[0m00:01\u001B[0m\r\n",
      "\u001B[?25hCollecting aiohttp<4.0.0,>=3.9.2\r\n",
      "  Downloading aiohttp-3.10.5-cp310-cp310-macosx_11_0_arm64.whl (389 kB)\r\n",
      "\u001B[2K     \u001B[90m━━━━━━━━━━━━━━━━━━━━━━━━━━━━━━━━━━━━━━\u001B[0m \u001B[32m389.1/389.1 kB\u001B[0m \u001B[31m10.2 MB/s\u001B[0m eta \u001B[36m0:00:00\u001B[0m00:01\u001B[0m\r\n",
      "\u001B[?25hCollecting wrapt<2.0.0,>=1.10.10\r\n",
      "  Using cached wrapt-1.16.0-cp310-cp310-macosx_11_0_arm64.whl (38 kB)\r\n",
      "Collecting boto3>=1.21.7\r\n",
      "  Downloading boto3-1.35.16-py3-none-any.whl (139 kB)\r\n",
      "\u001B[2K     \u001B[90m━━━━━━━━━━━━━━━━━━━━━━━━━━━━━━━━━━━━━━━\u001B[0m \u001B[32m139.2/139.2 kB\u001B[0m \u001B[31m8.9 MB/s\u001B[0m eta \u001B[36m0:00:00\u001B[0m\r\n",
      "\u001B[?25hRequirement already satisfied: s3transfer<0.11.0,>=0.10.0 in ./venv/lib/python3.10/site-packages (from boto3>=1.21.7->quilt3[catalog,pyarrow]) (0.10.2)\r\n",
      "Requirement already satisfied: jmespath<2.0.0,>=0.7.1 in ./venv/lib/python3.10/site-packages (from boto3>=1.21.7->quilt3[catalog,pyarrow]) (1.0.1)\r\n",
      "Requirement already satisfied: rpds-py>=0.7.1 in ./venv/lib/python3.10/site-packages (from jsonschema<5,>=3->quilt3[catalog,pyarrow]) (0.20.0)\r\n",
      "Requirement already satisfied: attrs>=22.2.0 in ./venv/lib/python3.10/site-packages (from jsonschema<5,>=3->quilt3[catalog,pyarrow]) (24.2.0)\r\n",
      "Requirement already satisfied: jsonschema-specifications>=2023.03.6 in ./venv/lib/python3.10/site-packages (from jsonschema<5,>=3->quilt3[catalog,pyarrow]) (2023.12.1)\r\n",
      "Requirement already satisfied: referencing>=0.28.4 in ./venv/lib/python3.10/site-packages (from jsonschema<5,>=3->quilt3[catalog,pyarrow]) (0.35.1)\r\n",
      "Requirement already satisfied: python-dateutil>=2.8.2 in ./venv/lib/python3.10/site-packages (from pandas>=0.19.2->quilt3[catalog,pyarrow]) (2.9.0.post0)\r\n",
      "Requirement already satisfied: pytz>=2020.1 in ./venv/lib/python3.10/site-packages (from pandas>=0.19.2->quilt3[catalog,pyarrow]) (2024.1)\r\n",
      "Requirement already satisfied: tzdata>=2022.7 in ./venv/lib/python3.10/site-packages (from pandas>=0.19.2->quilt3[catalog,pyarrow]) (2024.1)\r\n",
      "Requirement already satisfied: annotated-types>=0.6.0 in ./venv/lib/python3.10/site-packages (from pydantic<3.0.0,>=2.0.0->quilt3[catalog,pyarrow]) (0.7.0)\r\n",
      "Requirement already satisfied: pydantic-core==2.23.3 in ./venv/lib/python3.10/site-packages (from pydantic<3.0.0,>=2.0.0->quilt3[catalog,pyarrow]) (2.23.3)\r\n",
      "Requirement already satisfied: typing-extensions>=4.6.1 in ./venv/lib/python3.10/site-packages (from pydantic<3.0.0,>=2.0.0->quilt3[catalog,pyarrow]) (4.12.2)\r\n",
      "Collecting openpyxl<4.0.0,>=3.0.9\r\n",
      "  Downloading openpyxl-3.1.5-py2.py3-none-any.whl (250 kB)\r\n",
      "\u001B[2K     \u001B[90m━━━━━━━━━━━━━━━━━━━━━━━━━━━━━━━━━━━━━━━\u001B[0m \u001B[32m250.9/250.9 kB\u001B[0m \u001B[31m8.8 MB/s\u001B[0m eta \u001B[36m0:00:00\u001B[0m\r\n",
      "\u001B[?25hCollecting jsonschema<5,>=3\r\n",
      "  Downloading jsonschema-3.2.0-py2.py3-none-any.whl (56 kB)\r\n",
      "\u001B[2K     \u001B[90m━━━━━━━━━━━━━━━━━━━━━━━━━━━━━━━━━━━━━━━━\u001B[0m \u001B[32m56.3/56.3 kB\u001B[0m \u001B[31m4.9 MB/s\u001B[0m eta \u001B[36m0:00:00\u001B[0m\r\n",
      "\u001B[?25hCollecting psutil<6.0.0,>=5.8.0\r\n",
      "  Using cached psutil-5.9.8-cp38-abi3-macosx_11_0_arm64.whl (249 kB)\r\n",
      "Collecting aicsimageio<3.2.0,>=3.1.4\r\n",
      "  Downloading aicsimageio-3.1.4-py2.py3-none-any.whl (48 kB)\r\n",
      "\u001B[2K     \u001B[90m━━━━━━━━━━━━━━━━━━━━━━━━━━━━━━━━━━━━━━━━\u001B[0m \u001B[32m48.6/48.6 kB\u001B[0m \u001B[31m3.1 MB/s\u001B[0m eta \u001B[36m0:00:00\u001B[0m\r\n",
      "\u001B[?25hCollecting ariadne<0.15.0,>=0.14.1\r\n",
      "  Downloading ariadne-0.14.1-py3-none-any.whl (44 kB)\r\n",
      "\u001B[2K     \u001B[90m━━━━━━━━━━━━━━━━━━━━━━━━━━━━━━━━━━━━━━━━\u001B[0m \u001B[32m44.9/44.9 kB\u001B[0m \u001B[31m4.3 MB/s\u001B[0m eta \u001B[36m0:00:00\u001B[0m\r\n",
      "\u001B[?25hCollecting numpy>=1.14.0\r\n",
      "  Using cached numpy-1.26.4-cp310-cp310-macosx_11_0_arm64.whl (14.0 MB)\r\n",
      "Collecting cachetools<6.0.0,>=5.0.0\r\n",
      "  Downloading cachetools-5.5.0-py3-none-any.whl (9.5 kB)\r\n",
      "Collecting importlib-resources<6.0.0,>=5.3.0\r\n",
      "  Downloading importlib_resources-5.13.0-py3-none-any.whl (32 kB)\r\n",
      "Collecting Pillow<10.0,>=8.4\r\n",
      "  Downloading Pillow-9.5.0-cp310-cp310-macosx_11_0_arm64.whl (3.1 MB)\r\n",
      "\u001B[2K     \u001B[90m━━━━━━━━━━━━━━━━━━━━━━━━━━━━━━━━━━━━━━━━\u001B[0m \u001B[32m3.1/3.1 MB\u001B[0m \u001B[31m11.5 MB/s\u001B[0m eta \u001B[36m0:00:00\u001B[0ma \u001B[36m0:00:01\u001B[0m\r\n",
      "\u001B[?25hCollecting fcsparser<0.3.0,>=0.2.4\r\n",
      "  Downloading fcsparser-0.2.8-py3-none-any.whl (14.6 MB)\r\n",
      "\u001B[2K     \u001B[90m━━━━━━━━━━━━━━━━━━━━━━━━━━━━━━━━━━━━━━━━\u001B[0m \u001B[32m14.6/14.6 MB\u001B[0m \u001B[31m11.5 MB/s\u001B[0m eta \u001B[36m0:00:00\u001B[0m00:01\u001B[0m00:01\u001B[0m\r\n",
      "\u001B[?25hCollecting fsspec[http]>=2022.1.0\r\n",
      "  Downloading fsspec-2024.9.0-py3-none-any.whl (179 kB)\r\n",
      "\u001B[2K     \u001B[90m━━━━━━━━━━━━━━━━━━━━━━━━━━━━━━━━━━━━━━━\u001B[0m \u001B[32m179.3/179.3 kB\u001B[0m \u001B[31m8.3 MB/s\u001B[0m eta \u001B[36m0:00:00\u001B[0m\r\n",
      "\u001B[?25hRequirement already satisfied: nbformat<6.0.0,>=5.1.3 in ./venv/lib/python3.10/site-packages (from quilt3-local<2,>=1->quilt3[catalog,pyarrow]) (5.10.4)\r\n",
      "Collecting xlrd<3.0.0,>=2.0.1\r\n",
      "  Downloading xlrd-2.0.1-py2.py3-none-any.whl (96 kB)\r\n",
      "\u001B[2K     \u001B[90m━━━━━━━━━━━━━━━━━━━━━━━━━━━━━━━━━━━━━━━━\u001B[0m \u001B[32m96.5/96.5 kB\u001B[0m \u001B[31m7.2 MB/s\u001B[0m eta \u001B[36m0:00:00\u001B[0m\r\n",
      "\u001B[?25hCollecting pyarrow>=0.14.1\r\n",
      "  Downloading pyarrow-7.0.0-cp310-cp310-macosx_11_0_arm64.whl (14.6 MB)\r\n",
      "\u001B[2K     \u001B[90m━━━━━━━━━━━━━━━━━━━━━━━━━━━━━━━━━━━━━━━━\u001B[0m \u001B[32m14.6/14.6 MB\u001B[0m \u001B[31m8.9 MB/s\u001B[0m eta \u001B[36m0:00:00\u001B[0m00:01\u001B[0m00:01\u001B[0mm\r\n",
      "\u001B[?25hCollecting fastapi<0.71.0,>=0.70.0\r\n",
      "  Downloading fastapi-0.70.1-py3-none-any.whl (51 kB)\r\n",
      "\u001B[2K     \u001B[90m━━━━━━━━━━━━━━━━━━━━━━━━━━━━━━━━━━━━━━━━\u001B[0m \u001B[32m51.9/51.9 kB\u001B[0m \u001B[31m4.0 MB/s\u001B[0m eta \u001B[36m0:00:00\u001B[0m\r\n",
      "\u001B[?25hCollecting imageio<2.6.0,>=2.5.0\r\n",
      "  Downloading imageio-2.5.0-py3-none-any.whl (3.3 MB)\r\n",
      "\u001B[2K     \u001B[90m━━━━━━━━━━━━━━━━━━━━━━━━━━━━━━━━━━━━━━━━\u001B[0m \u001B[32m3.3/3.3 MB\u001B[0m \u001B[31m11.4 MB/s\u001B[0m eta \u001B[36m0:00:00\u001B[0ma \u001B[36m0:00:01\u001B[0m\r\n",
      "\u001B[?25hCollecting pandas>=0.19.2\r\n",
      "  Using cached pandas-1.5.3-cp310-cp310-macosx_11_0_arm64.whl (10.9 MB)\r\n",
      "Collecting nbconvert<7.0.0,>=6.3.0\r\n",
      "  Downloading nbconvert-6.5.4-py3-none-any.whl (563 kB)\r\n",
      "\u001B[2K     \u001B[90m━━━━━━━━━━━━━━━━━━━━━━━━━━━━━━━━━━━━━━\u001B[0m \u001B[32m563.8/563.8 kB\u001B[0m \u001B[31m10.8 MB/s\u001B[0m eta \u001B[36m0:00:00\u001B[0ma \u001B[36m0:00:01\u001B[0m\r\n",
      "\u001B[?25hCollecting pyrsistent>=0.14.0\r\n",
      "  Downloading pyrsistent-0.20.0-cp310-cp310-macosx_10_9_universal2.whl (83 kB)\r\n",
      "\u001B[2K     \u001B[90m━━━━━━━━━━━━━━━━━━━━━━━━━━━━━━━━━━━━━━━━\u001B[0m \u001B[32m83.4/83.4 kB\u001B[0m \u001B[31m5.7 MB/s\u001B[0m eta \u001B[36m0:00:00\u001B[0m\r\n",
      "\u001B[?25hRequirement already satisfied: setuptools in ./venv/lib/python3.10/site-packages (from jsonschema<5,>=3->quilt3[catalog,pyarrow]) (63.2.0)\r\n",
      "Requirement already satisfied: charset-normalizer<4,>=2 in ./venv/lib/python3.10/site-packages (from requests>=2.12.4->quilt3[catalog,pyarrow]) (3.3.2)\r\n",
      "Requirement already satisfied: urllib3<3,>=1.21.1 in ./venv/lib/python3.10/site-packages (from requests>=2.12.4->quilt3[catalog,pyarrow]) (2.2.2)\r\n",
      "Requirement already satisfied: idna<4,>=2.5 in ./venv/lib/python3.10/site-packages (from requests>=2.12.4->quilt3[catalog,pyarrow]) (3.8)\r\n",
      "Requirement already satisfied: certifi>=2017.4.17 in ./venv/lib/python3.10/site-packages (from requests>=2.12.4->quilt3[catalog,pyarrow]) (2024.8.30)\r\n",
      "Collecting asgiref>=3.4.0\r\n",
      "  Downloading asgiref-3.8.1-py3-none-any.whl (23 kB)\r\n",
      "Collecting click>=7.0\r\n",
      "  Using cached click-8.1.7-py3-none-any.whl (97 kB)\r\n",
      "Requirement already satisfied: h11>=0.8 in ./venv/lib/python3.10/site-packages (from uvicorn<0.18,>=0.15->quilt3[catalog,pyarrow]) (0.14.0)\r\n",
      "Collecting toolz>=0.10.0\r\n",
      "  Downloading toolz-0.12.1-py3-none-any.whl (56 kB)\r\n",
      "\u001B[2K     \u001B[90m━━━━━━━━━━━━━━━━━━━━━━━━━━━━━━━━━━━━━━━━\u001B[0m \u001B[32m56.1/56.1 kB\u001B[0m \u001B[31m5.0 MB/s\u001B[0m eta \u001B[36m0:00:00\u001B[0m\r\n",
      "\u001B[?25hCollecting distributed>=2.9.3\r\n",
      "  Downloading distributed-2024.9.0-py3-none-any.whl (1.0 MB)\r\n",
      "\u001B[2K     \u001B[90m━━━━━━━━━━━━━━━━━━━━━━━━━━━━━━━━━━━━━━━━\u001B[0m \u001B[32m1.0/1.0 MB\u001B[0m \u001B[31m11.1 MB/s\u001B[0m eta \u001B[36m0:00:00\u001B[0ma \u001B[36m0:00:01\u001B[0m\r\n",
      "\u001B[?25hCollecting aicspylibczi>=2.5.0\r\n",
      "  Downloading aicspylibczi-3.2.0-cp310-cp310-macosx_11_0_arm64.whl (649 kB)\r\n",
      "\u001B[2K     \u001B[90m━━━━━━━━━━━━━━━━━━━━━━━━━━━━━━━━━━━━━━━\u001B[0m \u001B[32m649.9/649.9 kB\u001B[0m \u001B[31m5.3 MB/s\u001B[0m eta \u001B[36m0:00:00\u001B[0m00:01\u001B[0m00:01\u001B[0m\r\n",
      "\u001B[?25hCollecting tifffile>=2019.7.26.2\r\n",
      "  Downloading tifffile-2024.8.30-py3-none-any.whl (227 kB)\r\n",
      "\u001B[2K     \u001B[90m━━━━━━━━━━━━━━━━━━━━━━━━━━━━━━━━━━━━━━━\u001B[0m \u001B[32m227.3/227.3 kB\u001B[0m \u001B[31m9.5 MB/s\u001B[0m eta \u001B[36m0:00:00\u001B[0m\r\n",
      "\u001B[?25hCollecting lxml>=4.4.2\r\n",
      "  Downloading lxml-5.3.0-cp310-cp310-macosx_10_9_universal2.whl (8.1 MB)\r\n",
      "\u001B[2K     \u001B[90m━━━━━━━━━━━━━━━━━━━━━━━━━━━━━━━━━━━━━━━━\u001B[0m \u001B[32m8.1/8.1 MB\u001B[0m \u001B[31m11.4 MB/s\u001B[0m eta \u001B[36m0:00:00\u001B[0ma \u001B[36m0:00:01\u001B[0m\r\n",
      "\u001B[?25hCollecting dask>=2.9.0\r\n",
      "  Downloading dask-2024.9.0-py3-none-any.whl (1.3 MB)\r\n",
      "\u001B[2K     \u001B[90m━━━━━━━━━━━━━━━━━━━━━━━━━━━━━━━━━━━━━━━━\u001B[0m \u001B[32m1.3/1.3 MB\u001B[0m \u001B[31m11.1 MB/s\u001B[0m eta \u001B[36m0:00:00\u001B[0ma \u001B[36m0:00:01\u001B[0m\r\n",
      "\u001B[?25hCollecting multidict<7.0,>=4.5\r\n",
      "  Downloading multidict-6.1.0-cp310-cp310-macosx_11_0_arm64.whl (29 kB)\r\n",
      "Collecting aiohappyeyeballs>=2.3.0\r\n",
      "  Downloading aiohappyeyeballs-2.4.0-py3-none-any.whl (12 kB)\r\n",
      "Collecting aiosignal>=1.1.2\r\n",
      "  Using cached aiosignal-1.3.1-py3-none-any.whl (7.6 kB)\r\n",
      "Collecting async-timeout<5.0,>=4.0\r\n",
      "  Using cached async_timeout-4.0.3-py3-none-any.whl (5.7 kB)\r\n",
      "Collecting yarl<2.0,>=1.0\r\n",
      "  Downloading yarl-1.11.1-cp310-cp310-macosx_11_0_arm64.whl (112 kB)\r\n",
      "\u001B[2K     \u001B[90m━━━━━━━━━━━━━━━━━━━━━━━━━━━━━━━━━━━━━━━\u001B[0m \u001B[32m112.5/112.5 kB\u001B[0m \u001B[31m6.0 MB/s\u001B[0m eta \u001B[36m0:00:00\u001B[0m\r\n",
      "\u001B[?25hCollecting frozenlist>=1.1.1\r\n",
      "  Using cached frozenlist-1.4.1-cp310-cp310-macosx_11_0_arm64.whl (52 kB)\r\n",
      "Collecting starlette<0.18\r\n",
      "  Downloading starlette-0.17.1-py3-none-any.whl (58 kB)\r\n",
      "\u001B[2K     \u001B[90m━━━━━━━━━━━━━━━━━━━━━━━━━━━━━━━━━━━━━━━━\u001B[0m \u001B[32m58.4/58.4 kB\u001B[0m \u001B[31m5.8 MB/s\u001B[0m eta \u001B[36m0:00:00\u001B[0m\r\n",
      "\u001B[?25hCollecting graphql-core<3.2,>=3.1.0\r\n",
      "  Downloading graphql_core-3.1.7-py3-none-any.whl (189 kB)\r\n",
      "\u001B[2K     \u001B[90m━━━━━━━━━━━━━━━━━━━━━━━━━━━━━━━━━━━━━━━\u001B[0m \u001B[32m189.5/189.5 kB\u001B[0m \u001B[31m8.6 MB/s\u001B[0m eta \u001B[36m0:00:00\u001B[0m\r\n",
      "\u001B[?25hCollecting fastapi<0.71.0,>=0.70.0\r\n",
      "  Downloading fastapi-0.70.0-py3-none-any.whl (51 kB)\r\n",
      "\u001B[2K     \u001B[90m━━━━━━━━━━━━━━━━━━━━━━━━━━━━━━━━━━━━━━━━\u001B[0m \u001B[32m51.9/51.9 kB\u001B[0m \u001B[31m4.3 MB/s\u001B[0m eta \u001B[36m0:00:00\u001B[0m\r\n",
      "\u001B[?25hINFO: pip is looking at multiple versions of click to determine which version is compatible with other requirements. This could take a while.\r\n",
      "Collecting click>=7.0\r\n",
      "  Downloading click-8.1.6-py3-none-any.whl (97 kB)\r\n",
      "\u001B[2K     \u001B[90m━━━━━━━━━━━━━━━━━━━━━━━━━━━━━━━━━━━━━━━━\u001B[0m \u001B[32m97.9/97.9 kB\u001B[0m \u001B[31m8.3 MB/s\u001B[0m eta \u001B[36m0:00:00\u001B[0m\r\n",
      "\u001B[?25hINFO: pip is looking at multiple versions of charset-normalizer to determine which version is compatible with other requirements. This could take a while.\r\n",
      "Collecting charset-normalizer<4,>=2\r\n",
      "  Using cached charset_normalizer-3.3.2-cp310-cp310-macosx_11_0_arm64.whl (120 kB)\r\n",
      "INFO: pip is looking at multiple versions of certifi to determine which version is compatible with other requirements. This could take a while.\r\n",
      "Collecting certifi>=2017.4.17\r\n",
      "  Using cached certifi-2024.8.30-py3-none-any.whl (167 kB)\r\n",
      "INFO: pip is looking at multiple versions of cachetools to determine which version is compatible with other requirements. This could take a while.\r\n",
      "Collecting cachetools<6.0.0,>=5.0.0\r\n",
      "  Downloading cachetools-5.4.0-py3-none-any.whl (9.5 kB)\r\n",
      "INFO: pip is looking at multiple versions of botocore to determine which version is compatible with other requirements. This could take a while.\r\n",
      "INFO: pip is looking at multiple versions of attrs to determine which version is compatible with other requirements. This could take a while.\r\n",
      "Collecting attrs>=22.2.0\r\n",
      "  Using cached attrs-24.2.0-py3-none-any.whl (63 kB)\r\n",
      "INFO: pip is looking at multiple versions of asgiref to determine which version is compatible with other requirements. This could take a while.\r\n",
      "Collecting asgiref>=3.4.0\r\n",
      "  Downloading asgiref-3.8.0-py3-none-any.whl (23 kB)\r\n",
      "INFO: pip is looking at multiple versions of ariadne to determine which version is compatible with other requirements. This could take a while.\r\n",
      "INFO: pip is looking at multiple versions of annotated-types to determine which version is compatible with other requirements. This could take a while.\r\n",
      "Collecting annotated-types>=0.6.0\r\n",
      "  Using cached annotated_types-0.7.0-py3-none-any.whl (13 kB)\r\n",
      "INFO: pip is looking at multiple versions of aioitertools to determine which version is compatible with other requirements. This could take a while.\r\n",
      "Collecting aioitertools<1.0.0,>=0.5.1\r\n",
      "  Using cached aioitertools-0.11.0-py3-none-any.whl (23 kB)\r\n",
      "INFO: pip is looking at multiple versions of aiohttp to determine which version is compatible with other requirements. This could take a while.\r\n",
      "Collecting aiohttp<4.0.0,>=3.9.2\r\n",
      "  Downloading aiohttp-3.10.4-cp310-cp310-macosx_11_0_arm64.whl (388 kB)\r\n",
      "\u001B[2K     \u001B[90m━━━━━━━━━━━━━━━━━━━━━━━━━━━━━━━━━━━━━━━\u001B[0m \u001B[32m389.0/389.0 kB\u001B[0m \u001B[31m1.5 MB/s\u001B[0m eta \u001B[36m0:00:00\u001B[0ma \u001B[36m0:00:01\u001B[0m\r\n",
      "\u001B[?25hINFO: pip is looking at multiple versions of aicsimageio to determine which version is compatible with other requirements. This could take a while.\r\n",
      "INFO: pip is looking at multiple versions of quilt3 to determine which version is compatible with other requirements. This could take a while.\r\n",
      "INFO: pip is looking at multiple versions of uvicorn to determine which version is compatible with other requirements. This could take a while.\r\n",
      "Collecting uvicorn<0.18,>=0.15\r\n",
      "  Downloading uvicorn-0.17.5-py3-none-any.whl (53 kB)\r\n",
      "\u001B[2K     \u001B[90m━━━━━━━━━━━━━━━━━━━━━━━━━━━━━━━━━━━━━━━━\u001B[0m \u001B[32m53.6/53.6 kB\u001B[0m \u001B[31m5.4 MB/s\u001B[0m eta \u001B[36m0:00:00\u001B[0m\r\n",
      "\u001B[?25hINFO: pip is looking at multiple versions of tqdm to determine which version is compatible with other requirements. This could take a while.\r\n",
      "Collecting tqdm>=4.32\r\n",
      "  Using cached tqdm-4.66.5-py3-none-any.whl (78 kB)\r\n",
      "INFO: pip is looking at multiple versions of tenacity to determine which version is compatible with other requirements. This could take a while.\r\n",
      "Collecting tenacity!=8.4.0,>=5.1.1\r\n",
      "  Using cached tenacity-9.0.0-py3-none-any.whl (28 kB)\r\n",
      "INFO: pip is looking at multiple versions of requests to determine which version is compatible with other requirements. This could take a while.\r\n",
      "Collecting requests>=2.12.4\r\n",
      "  Using cached requests-2.32.3-py3-none-any.whl (64 kB)\r\n",
      "INFO: pip is looking at multiple versions of pyarrow to determine which version is compatible with other requirements. This could take a while.\r\n",
      "INFO: pip is looking at multiple versions of pandas to determine which version is compatible with other requirements. This could take a while.\r\n",
      "Collecting pandas>=0.19.2\r\n",
      "  Downloading pandas-1.5.2-cp310-cp310-macosx_11_0_arm64.whl (10.8 MB)\r\n",
      "\u001B[2K     \u001B[90m━━━━━━━━━━━━━━━━━━━━━━━━━━━━━━━━━━━━━━━━\u001B[0m \u001B[32m10.8/10.8 MB\u001B[0m \u001B[31m10.4 MB/s\u001B[0m eta \u001B[36m0:00:00\u001B[0m00:01\u001B[0m00:01\u001B[0m\r\n",
      "\u001B[?25hINFO: pip is looking at multiple versions of numpy to determine which version is compatible with other requirements. This could take a while.\r\n",
      "Collecting numpy>=1.14.0\r\n",
      "  Downloading numpy-1.26.3-cp310-cp310-macosx_11_0_arm64.whl (14.0 MB)\r\n",
      "\u001B[2K     \u001B[90m━━━━━━━━━━━━━━━━━━━━━━━━━━━━━━━━━━━━━━━━\u001B[0m \u001B[32m14.0/14.0 MB\u001B[0m \u001B[31m11.0 MB/s\u001B[0m eta \u001B[36m0:00:00\u001B[0m00:01\u001B[0m00:01\u001B[0m\r\n",
      "\u001B[?25hINFO: pip is looking at multiple versions of jsonschema to determine which version is compatible with other requirements. This could take a while.\r\n",
      "Collecting jsonschema<5,>=3\r\n",
      "  Downloading jsonschema-3.1.1-py2.py3-none-any.whl (56 kB)\r\n",
      "\u001B[2K     \u001B[90m━━━━━━━━━━━━━━━━━━━━━━━━━━━━━━━━━━━━━━━━\u001B[0m \u001B[32m56.1/56.1 kB\u001B[0m \u001B[31m4.2 MB/s\u001B[0m eta \u001B[36m0:00:00\u001B[0m\r\n",
      "\u001B[?25hINFO: pip is looking at multiple versions of quilt3 to determine which version is compatible with other requirements. This could take a while.\r\n",
      "INFO: pip is looking at multiple versions of quilt3-local to determine which version is compatible with other requirements. This could take a while.\r\n",
      "Collecting quilt3-local<2,>=1\r\n",
      "  Downloading quilt3_local-1.2.0-py3-none-any.whl (38.7 MB)\r\n",
      "\u001B[2K     \u001B[90m━━━━━━━━━━━━━━━━━━━━━━━━━━━━━━━━━━━━━━━━\u001B[0m \u001B[32m38.7/38.7 MB\u001B[0m \u001B[31m10.5 MB/s\u001B[0m eta \u001B[36m0:00:00\u001B[0m00:01\u001B[0m00:01\u001B[0m\r\n",
      "\u001B[?25h  Downloading quilt3_local-1.1.2-py3-none-any.whl (38.7 MB)\r\n",
      "\u001B[2K     \u001B[90m━━━━━━━━━━━━━━━━━━━━━━━━━━━━━━━━━━━━━━━━\u001B[0m \u001B[32m38.7/38.7 MB\u001B[0m \u001B[31m5.4 MB/s\u001B[0m eta \u001B[36m0:00:00\u001B[0m00:01\u001B[0m00:01\u001B[0mm\r\n",
      "\u001B[?25h  Downloading quilt3_local-1.0.1-py3-none-any.whl (22.5 MB)\r\n",
      "\u001B[2K     \u001B[90m━━━━━━━━━━━━━━━━━━━━━━━━━━━━━━━━━━━━━━━━\u001B[0m \u001B[32m22.5/22.5 MB\u001B[0m \u001B[31m9.0 MB/s\u001B[0m eta \u001B[36m0:00:00\u001B[0m00:01\u001B[0m00:01\u001B[0m\r\n",
      "\u001B[?25hCollecting pyarrow>=0.14.1\r\n",
      "  Downloading pyarrow-6.0.1-cp310-cp310-macosx_11_0_arm64.whl (13.8 MB)\r\n",
      "\u001B[2K     \u001B[90m━━━━━━━━━━━━━━━━━━━━━━━━━━━━━━━━━━━━━━━━\u001B[0m \u001B[32m13.8/13.8 MB\u001B[0m \u001B[31m9.1 MB/s\u001B[0m eta \u001B[36m0:00:00\u001B[0m00:01\u001B[0m00:01\u001B[0m\r\n",
      "\u001B[?25hCollecting aicsimageio==3.0.7\r\n",
      "  Downloading aicsimageio-3.0.7-py2.py3-none-any.whl (49 kB)\r\n",
      "\u001B[2K     \u001B[90m━━━━━━━━━━━━━━━━━━━━━━━━━━━━━━━━━━━━━━━━\u001B[0m \u001B[32m49.6/49.6 kB\u001B[0m \u001B[31m5.2 MB/s\u001B[0m eta \u001B[36m0:00:00\u001B[0m\r\n",
      "\u001B[?25hCollecting scipy>=1.1.0\r\n",
      "  Using cached scipy-1.14.1-cp310-cp310-macosx_14_0_arm64.whl (23.1 MB)\r\n",
      "Collecting tifffile==0.15.1\r\n",
      "  Downloading tifffile-0.15.1.tar.gz (104 kB)\r\n",
      "\u001B[2K     \u001B[90m━━━━━━━━━━━━━━━━━━━━━━━━━━━━━━━━━━━━━━━\u001B[0m \u001B[32m104.8/104.8 kB\u001B[0m \u001B[31m5.9 MB/s\u001B[0m eta \u001B[36m0:00:00\u001B[0m\r\n",
      "\u001B[?25h  Preparing metadata (setup.py) ... \u001B[?25ldone\r\n",
      "\u001B[?25hINFO: pip is looking at multiple versions of tifffile to determine which version is compatible with other requirements. This could take a while.\r\n",
      "INFO: pip is looking at multiple versions of imageio to determine which version is compatible with other requirements. This could take a while.\r\n",
      "Collecting quilt3-local<2,>=1\r\n",
      "  Downloading quilt3_local-1.0.0-py3-none-any.whl (22.5 MB)\r\n",
      "\u001B[2K     \u001B[90m━━━━━━━━━━━━━━━━━━━━━━━━━━━━━━━━━━━━━━━━\u001B[0m \u001B[32m22.5/22.5 MB\u001B[0m \u001B[31m8.9 MB/s\u001B[0m eta \u001B[36m0:00:00\u001B[0m00:01\u001B[0m00:01\u001B[0m\r\n",
      "\u001B[?25hCollecting Pillow<9.0.0,>=8.4.0\r\n",
      "  Downloading Pillow-8.4.0-cp310-cp310-macosx_11_0_arm64.whl (2.8 MB)\r\n",
      "\u001B[2K     \u001B[90m━━━━━━━━━━━━━━━━━━━━━━━━━━━━━━━━━━━━━━━━\u001B[0m \u001B[32m2.8/2.8 MB\u001B[0m \u001B[31m9.0 MB/s\u001B[0m eta \u001B[36m0:00:00\u001B[0m00:01\u001B[0m00:01\u001B[0mm\r\n",
      "\u001B[?25hINFO: pip is looking at multiple versions of pyyaml to determine which version is compatible with other requirements. This could take a while.\r\n",
      "Collecting PyYAML>=5.1\r\n",
      "  Using cached PyYAML-6.0.2-cp310-cp310-macosx_11_0_arm64.whl (171 kB)\r\n",
      "INFO: pip is looking at multiple versions of quilt3-local to determine which version is compatible with other requirements. This could take a while.\r\n",
      "  Using cached PyYAML-6.0.1-cp310-cp310-macosx_11_0_arm64.whl (169 kB)\r\n",
      "INFO: This is taking longer than usual. You might need to provide the dependency resolver with stricter constraints to reduce runtime. See https://pip.pypa.io/warnings/backtracking for guidance. If you want to abort this run, press Ctrl + C.\r\n",
      "  Downloading PyYAML-6.0-cp310-cp310-macosx_11_0_arm64.whl (173 kB)\r\n",
      "\u001B[2K     \u001B[90m━━━━━━━━━━━━━━━━━━━━━━━━━━━━━━━━━━━━━━━\u001B[0m \u001B[32m174.0/174.0 kB\u001B[0m \u001B[31m8.8 MB/s\u001B[0m eta \u001B[36m0:00:00\u001B[0m\r\n",
      "\u001B[?25hINFO: pip is looking at multiple versions of aicsimageio to determine which version is compatible with other requirements. This could take a while.\r\n",
      "INFO: pip is looking at multiple versions of tifffile to determine which version is compatible with other requirements. This could take a while.\r\n",
      "INFO: pip is looking at multiple versions of imageio to determine which version is compatible with other requirements. This could take a while.\r\n",
      "  Downloading PyYAML-5.4.1.tar.gz (175 kB)\r\n",
      "\u001B[2K     \u001B[90m━━━━━━━━━━━━━━━━━━━━━━━━━━━━━━━━━━━━━━━\u001B[0m \u001B[32m175.1/175.1 kB\u001B[0m \u001B[31m8.6 MB/s\u001B[0m eta \u001B[36m0:00:00\u001B[0m\r\n",
      "\u001B[?25h  Installing build dependencies ... \u001B[?25ldone\r\n",
      "\u001B[?25h  Getting requirements to build wheel ... \u001B[?25lerror\r\n",
      "  \u001B[1;31merror\u001B[0m: \u001B[1msubprocess-exited-with-error\u001B[0m\r\n",
      "  \r\n",
      "  \u001B[31m×\u001B[0m \u001B[32mGetting requirements to build wheel\u001B[0m did not run successfully.\r\n",
      "  \u001B[31m│\u001B[0m exit code: \u001B[1;36m1\u001B[0m\r\n",
      "  \u001B[31m╰─>\u001B[0m \u001B[31m[48 lines of output]\u001B[0m\r\n",
      "  \u001B[31m   \u001B[0m running egg_info\r\n",
      "  \u001B[31m   \u001B[0m writing lib3/PyYAML.egg-info/PKG-INFO\r\n",
      "  \u001B[31m   \u001B[0m writing dependency_links to lib3/PyYAML.egg-info/dependency_links.txt\r\n",
      "  \u001B[31m   \u001B[0m writing top-level names to lib3/PyYAML.egg-info/top_level.txt\r\n",
      "  \u001B[31m   \u001B[0m Traceback (most recent call last):\r\n",
      "  \u001B[31m   \u001B[0m   File \"/Users/sdeleye/Code/quilt/venv/lib/python3.10/site-packages/pip/_vendor/pep517/in_process/_in_process.py\", line 363, in <module>\r\n",
      "  \u001B[31m   \u001B[0m     main()\r\n",
      "  \u001B[31m   \u001B[0m   File \"/Users/sdeleye/Code/quilt/venv/lib/python3.10/site-packages/pip/_vendor/pep517/in_process/_in_process.py\", line 345, in main\r\n",
      "  \u001B[31m   \u001B[0m     json_out['return_val'] = hook(**hook_input['kwargs'])\r\n",
      "  \u001B[31m   \u001B[0m   File \"/Users/sdeleye/Code/quilt/venv/lib/python3.10/site-packages/pip/_vendor/pep517/in_process/_in_process.py\", line 130, in get_requires_for_build_wheel\r\n",
      "  \u001B[31m   \u001B[0m     return hook(config_settings)\r\n",
      "  \u001B[31m   \u001B[0m   File \"/private/var/folders/b4/y8_t3qdx1tgddwc3gc_yhlh80000gn/T/pip-build-env-mzstwxba/overlay/lib/python3.10/site-packages/setuptools/build_meta.py\", line 332, in get_requires_for_build_wheel\r\n",
      "  \u001B[31m   \u001B[0m     return self._get_build_requires(config_settings, requirements=[])\r\n",
      "  \u001B[31m   \u001B[0m   File \"/private/var/folders/b4/y8_t3qdx1tgddwc3gc_yhlh80000gn/T/pip-build-env-mzstwxba/overlay/lib/python3.10/site-packages/setuptools/build_meta.py\", line 302, in _get_build_requires\r\n",
      "  \u001B[31m   \u001B[0m     self.run_setup()\r\n",
      "  \u001B[31m   \u001B[0m   File \"/private/var/folders/b4/y8_t3qdx1tgddwc3gc_yhlh80000gn/T/pip-build-env-mzstwxba/overlay/lib/python3.10/site-packages/setuptools/build_meta.py\", line 318, in run_setup\r\n",
      "  \u001B[31m   \u001B[0m     exec(code, locals())\r\n",
      "  \u001B[31m   \u001B[0m   File \"<string>\", line 271, in <module>\r\n",
      "  \u001B[31m   \u001B[0m   File \"/private/var/folders/b4/y8_t3qdx1tgddwc3gc_yhlh80000gn/T/pip-build-env-mzstwxba/overlay/lib/python3.10/site-packages/setuptools/__init__.py\", line 117, in setup\r\n",
      "  \u001B[31m   \u001B[0m     return distutils.core.setup(**attrs)\r\n",
      "  \u001B[31m   \u001B[0m   File \"/private/var/folders/b4/y8_t3qdx1tgddwc3gc_yhlh80000gn/T/pip-build-env-mzstwxba/overlay/lib/python3.10/site-packages/setuptools/_distutils/core.py\", line 184, in setup\r\n",
      "  \u001B[31m   \u001B[0m     return run_commands(dist)\r\n",
      "  \u001B[31m   \u001B[0m   File \"/private/var/folders/b4/y8_t3qdx1tgddwc3gc_yhlh80000gn/T/pip-build-env-mzstwxba/overlay/lib/python3.10/site-packages/setuptools/_distutils/core.py\", line 200, in run_commands\r\n",
      "  \u001B[31m   \u001B[0m     dist.run_commands()\r\n",
      "  \u001B[31m   \u001B[0m   File \"/private/var/folders/b4/y8_t3qdx1tgddwc3gc_yhlh80000gn/T/pip-build-env-mzstwxba/overlay/lib/python3.10/site-packages/setuptools/_distutils/dist.py\", line 954, in run_commands\r\n",
      "  \u001B[31m   \u001B[0m     self.run_command(cmd)\r\n",
      "  \u001B[31m   \u001B[0m   File \"/private/var/folders/b4/y8_t3qdx1tgddwc3gc_yhlh80000gn/T/pip-build-env-mzstwxba/overlay/lib/python3.10/site-packages/setuptools/dist.py\", line 950, in run_command\r\n",
      "  \u001B[31m   \u001B[0m     super().run_command(command)\r\n",
      "  \u001B[31m   \u001B[0m   File \"/private/var/folders/b4/y8_t3qdx1tgddwc3gc_yhlh80000gn/T/pip-build-env-mzstwxba/overlay/lib/python3.10/site-packages/setuptools/_distutils/dist.py\", line 973, in run_command\r\n",
      "  \u001B[31m   \u001B[0m     cmd_obj.run()\r\n",
      "  \u001B[31m   \u001B[0m   File \"/private/var/folders/b4/y8_t3qdx1tgddwc3gc_yhlh80000gn/T/pip-build-env-mzstwxba/overlay/lib/python3.10/site-packages/setuptools/command/egg_info.py\", line 311, in run\r\n",
      "  \u001B[31m   \u001B[0m     self.find_sources()\r\n",
      "  \u001B[31m   \u001B[0m   File \"/private/var/folders/b4/y8_t3qdx1tgddwc3gc_yhlh80000gn/T/pip-build-env-mzstwxba/overlay/lib/python3.10/site-packages/setuptools/command/egg_info.py\", line 319, in find_sources\r\n",
      "  \u001B[31m   \u001B[0m     mm.run()\r\n",
      "  \u001B[31m   \u001B[0m   File \"/private/var/folders/b4/y8_t3qdx1tgddwc3gc_yhlh80000gn/T/pip-build-env-mzstwxba/overlay/lib/python3.10/site-packages/setuptools/command/egg_info.py\", line 540, in run\r\n",
      "  \u001B[31m   \u001B[0m     self.add_defaults()\r\n",
      "  \u001B[31m   \u001B[0m   File \"/private/var/folders/b4/y8_t3qdx1tgddwc3gc_yhlh80000gn/T/pip-build-env-mzstwxba/overlay/lib/python3.10/site-packages/setuptools/command/egg_info.py\", line 578, in add_defaults\r\n",
      "  \u001B[31m   \u001B[0m     sdist.add_defaults(self)\r\n",
      "  \u001B[31m   \u001B[0m   File \"/private/var/folders/b4/y8_t3qdx1tgddwc3gc_yhlh80000gn/T/pip-build-env-mzstwxba/overlay/lib/python3.10/site-packages/setuptools/command/sdist.py\", line 108, in add_defaults\r\n",
      "  \u001B[31m   \u001B[0m     super().add_defaults()\r\n",
      "  \u001B[31m   \u001B[0m   File \"/private/var/folders/b4/y8_t3qdx1tgddwc3gc_yhlh80000gn/T/pip-build-env-mzstwxba/overlay/lib/python3.10/site-packages/setuptools/_distutils/command/sdist.py\", line 250, in add_defaults\r\n",
      "  \u001B[31m   \u001B[0m     self._add_defaults_ext()\r\n",
      "  \u001B[31m   \u001B[0m   File \"/private/var/folders/b4/y8_t3qdx1tgddwc3gc_yhlh80000gn/T/pip-build-env-mzstwxba/overlay/lib/python3.10/site-packages/setuptools/_distutils/command/sdist.py\", line 335, in _add_defaults_ext\r\n",
      "  \u001B[31m   \u001B[0m     self.filelist.extend(build_ext.get_source_files())\r\n",
      "  \u001B[31m   \u001B[0m   File \"<string>\", line 201, in get_source_files\r\n",
      "  \u001B[31m   \u001B[0m   File \"/private/var/folders/b4/y8_t3qdx1tgddwc3gc_yhlh80000gn/T/pip-build-env-mzstwxba/overlay/lib/python3.10/site-packages/setuptools/_distutils/cmd.py\", line 107, in __getattr__\r\n",
      "  \u001B[31m   \u001B[0m     raise AttributeError(attr)\r\n",
      "  \u001B[31m   \u001B[0m AttributeError: cython_sources\r\n",
      "  \u001B[31m   \u001B[0m \u001B[31m[end of output]\u001B[0m\r\n",
      "  \r\n",
      "  \u001B[1;35mnote\u001B[0m: This error originates from a subprocess, and is likely not a problem with pip.\r\n",
      "\u001B[1;31merror\u001B[0m: \u001B[1msubprocess-exited-with-error\u001B[0m\r\n",
      "\r\n",
      "\u001B[31m×\u001B[0m \u001B[32mGetting requirements to build wheel\u001B[0m did not run successfully.\r\n",
      "\u001B[31m│\u001B[0m exit code: \u001B[1;36m1\u001B[0m\r\n",
      "\u001B[31m╰─>\u001B[0m See above for output.\r\n",
      "\r\n",
      "\u001B[1;35mnote\u001B[0m: This error originates from a subprocess, and is likely not a problem with pip.\r\n",
      "\r\n",
      "\u001B[1m[\u001B[0m\u001B[34;49mnotice\u001B[0m\u001B[1;39;49m]\u001B[0m\u001B[39;49m A new release of pip available: \u001B[0m\u001B[31;49m22.2.2\u001B[0m\u001B[39;49m -> \u001B[0m\u001B[32;49m24.2\u001B[0m\r\n",
      "\u001B[1m[\u001B[0m\u001B[34;49mnotice\u001B[0m\u001B[1;39;49m]\u001B[0m\u001B[39;49m To update, run: \u001B[0m\u001B[32;49mpip install --upgrade pip\u001B[0m\r\n",
      "\u001B[?25h"
     ]
    }
   ],
   "execution_count": 4
  },
  {
   "cell_type": "code",
   "id": "9d412962",
   "metadata": {
    "ExecuteTime": {
     "end_time": "2024-09-14T14:39:13.962527Z",
     "start_time": "2024-09-14T14:39:12.935582Z"
    }
   },
   "source": [
    "import quilt3\n",
    "import os"
   ],
   "outputs": [],
   "execution_count": 5
  },
  {
   "cell_type": "code",
   "id": "1a5f747a-18f2-446a-8e1f-6503ca5c9599",
   "metadata": {
    "ExecuteTime": {
     "end_time": "2024-09-14T14:39:16.188924Z",
     "start_time": "2024-09-14T14:39:15.427919Z"
    }
   },
   "source": [
    "!pip show boto3"
   ],
   "outputs": [
    {
     "name": "stdout",
     "output_type": "stream",
     "text": [
      "Name: boto3\r\n",
      "Version: 1.35.15\r\n",
      "Summary: The AWS SDK for Python\r\n",
      "Home-page: https://github.com/boto/boto3\r\n",
      "Author: Amazon Web Services\r\n",
      "Author-email: \r\n",
      "License: Apache License 2.0\r\n",
      "Location: /Users/sdeleye/Code/quilt/venv/lib/python3.10/site-packages\r\n",
      "Requires: botocore, jmespath, s3transfer\r\n",
      "Required-by: quilt3\r\n"
     ]
    }
   ],
   "execution_count": 6
  },
  {
   "cell_type": "markdown",
   "id": "430fbeef-9ddb-4019-b556-b498529adf04",
   "metadata": {},
   "source": "[To establish HTTPS connection with server we need to explicitly specify SSL certificate](https://docs.quiltdata.com/api-reference/custom-ssl-certificates#references)"
  },
  {
   "cell_type": "code",
   "id": "a8a3822f",
   "metadata": {
    "ExecuteTime": {
     "end_time": "2024-09-14T15:39:47.432895Z",
     "start_time": "2024-09-14T15:39:47.426762Z"
    }
   },
   "source": "os.environ['REQUESTS_CA_BUNDLE']=\"/Users/sdeleye/Documents/Syngenta/cacert.pem\"",
   "outputs": [],
   "execution_count": 16
  },
  {
   "cell_type": "markdown",
   "id": "19d16f34-3265-42d0-9dcf-a299eae92a36",
   "metadata": {},
   "source": [
    "# 1. Quilt Configuration"
   ]
  },
  {
   "metadata": {
    "ExecuteTime": {
     "end_time": "2024-09-14T15:00:47.104130Z",
     "start_time": "2024-09-14T15:00:47.076774Z"
    }
   },
   "cell_type": "code",
   "source": "quilt3.config()",
   "id": "8ae97b9af48f5eb0",
   "outputs": [
    {
     "data": {
      "text/plain": [
       "<QuiltConfig at '/Users/sdeleye/Library/Application Support/Quilt/config.yml' {\n",
       "    \"navigator_url\": \"https://open.quiltdata.com\",\n",
       "    \"default_local_registry\": \"file:///Users/sdeleye/Library/Application%20Support/Quilt/packages\",\n",
       "    \"default_remote_registry\": null,\n",
       "    \"default_install_location\": null,\n",
       "    \"registryUrl\": \"https://open-registry.quiltdata.com\",\n",
       "    \"telemetry_disabled\": false,\n",
       "    \"s3Proxy\": \"https://open-s3-proxy.quiltdata.com\",\n",
       "    \"apiGatewayEndpoint\": \"https://sttuv8u2u4.execute-api.us-east-1.amazonaws.com/prod\",\n",
       "    \"binaryApiGatewayEndpoint\": null,\n",
       "    \"default_registry_version\": 1\n",
       "}>"
      ]
     },
     "execution_count": 10,
     "metadata": {},
     "output_type": "execute_result"
    }
   ],
   "execution_count": 10
  },
  {
   "cell_type": "markdown",
   "id": "417c47b4-31e1-4e17-a335-fc3cd3bcfe55",
   "metadata": {},
   "source": [
    "Set registry URL"
   ]
  },
  {
   "cell_type": "code",
   "id": "bf9bcb4a",
   "metadata": {
    "ExecuteTime": {
     "end_time": "2024-09-14T15:40:04.640957Z",
     "start_time": "2024-09-14T15:40:04.358225Z"
    }
   },
   "source": [
    "quilt3.config(\"https://quiltpoc.ecicl.cloud.syngenta.org\")"
   ],
   "outputs": [
    {
     "data": {
      "text/plain": [
       "<QuiltConfig at '/Users/sdeleye/Library/Application Support/Quilt/config.yml' {\n",
       "    \"navigator_url\": \"https://quiltpoc.ecicl.cloud.syngenta.org\",\n",
       "    \"default_local_registry\": \"file:///Users/sdeleye/Library/Application%20Support/Quilt/packages\",\n",
       "    \"default_remote_registry\": null,\n",
       "    \"default_install_location\": null,\n",
       "    \"registryUrl\": \"https://quiltpoc-registry.ecicl.cloud.syngenta.org\",\n",
       "    \"telemetry_disabled\": false,\n",
       "    \"s3Proxy\": \"https://quiltpoc-s3-proxy.ecicl.cloud.syngenta.org\",\n",
       "    \"apiGatewayEndpoint\": \"https://3qiz7cfi12-vpce-077b48b22f4c5865e.execute-api.eu-central-1.amazonaws.com/prod\",\n",
       "    \"binaryApiGatewayEndpoint\": null,\n",
       "    \"default_registry_version\": 1\n",
       "}>"
      ]
     },
     "execution_count": 18,
     "metadata": {},
     "output_type": "execute_result"
    }
   ],
   "execution_count": 18
  },
  {
   "metadata": {
    "ExecuteTime": {
     "end_time": "2024-09-11T08:16:41.919264Z",
     "start_time": "2024-09-11T08:16:41.365187Z"
    }
   },
   "cell_type": "code",
   "source": "quilt3.config()",
   "id": "724bfdace7037d65",
   "outputs": [
    {
     "data": {
      "text/plain": [
       "<QuiltConfig at '/Users/sdeleye/Library/Application Support/Quilt/config.yml' {\n",
       "    \"navigator_url\": \"https://open.quiltdata.com\",\n",
       "    \"default_local_registry\": \"file:///Users/sdeleye/Library/Application%20Support/Quilt/packages\",\n",
       "    \"default_remote_registry\": null,\n",
       "    \"default_install_location\": null,\n",
       "    \"registryUrl\": \"https://open-registry.quiltdata.com\",\n",
       "    \"telemetry_disabled\": false,\n",
       "    \"s3Proxy\": \"https://open-s3-proxy.quiltdata.com\",\n",
       "    \"apiGatewayEndpoint\": \"https://sttuv8u2u4.execute-api.us-east-1.amazonaws.com/prod\",\n",
       "    \"binaryApiGatewayEndpoint\": null,\n",
       "    \"default_registry_version\": 1\n",
       "}>"
      ]
     },
     "execution_count": 4,
     "metadata": {},
     "output_type": "execute_result"
    }
   ],
   "execution_count": 4
  },
  {
   "cell_type": "markdown",
   "id": "1fbf323c-f7d6-46f7-96a1-314c8f378abb",
   "metadata": {},
   "source": [
    "Trying to authenticate into Quilt, copy provided code and paste it down below to the input box and press ENTER."
   ]
  },
  {
   "cell_type": "code",
   "execution_count": 23,
   "id": "c1194cb5",
   "metadata": {},
   "outputs": [
    {
     "name": "stdout",
     "output_type": "stream",
     "text": [
      "Launching a web browser...\n",
      "If that didn't work, please visit the following URL: https://quiltpoc-registry.ecicl.cloud.syngenta.org/login\n",
      "\n"
     ]
    },
    {
     "name": "stdin",
     "output_type": "stream",
     "text": [
      "Enter the code from the webpage:  eyJpZCI6ICI3MWRhNGJiNC0zNDY3LTRiMmUtOWU3ZC1iOTNhMmZlYmYwNWYiLCAiY29kZSI6ICJiOWZmY2NjYy03YzIxLTQ5ZWEtODJlOC1kNzQ4MDFjZDFkZWUifQ==\n"
     ]
    }
   ],
   "source": [
    "quilt3.login()"
   ]
  },
  {
   "cell_type": "markdown",
   "id": "d5981286-09b2-49c9-983e-d51521dfba8a",
   "metadata": {},
   "source": [
    "# 2. Uploading new package from the local machine to Quilt"
   ]
  },
  {
   "cell_type": "code",
   "execution_count": 25,
   "id": "b254d431-c89f-45e2-a92e-a61815086719",
   "metadata": {},
   "outputs": [],
   "source": [
    "s3_bucket = \"s3://bioinformatics-quilt-poc\" #target bucket where data will be pushed\n",
    "quilt_package_name = \"alenaalekseeva/experiment_2\" #name of the package to be create in Quilt\n",
    "quilt_package_fastq_path = \"test_data\" #prefix to be added to uploaded data in Quilt\n",
    "quilt_package_samplesheet_path = \"sample_sheet_data\"\n",
    "local_fastq_directory_name = \"C://Files_NGS//SSF211.1\" #your local drive folder where data will be uploaded from\n",
    "local_samplesheet_file_name = \"D://local_folder//samplesheet.csv\""
   ]
  },
  {
   "cell_type": "markdown",
   "id": "a9bd930d-b319-4160-8cd2-f594fdf18cec",
   "metadata": {},
   "source": [
    "Initialize the package and set source and destination path"
   ]
  },
  {
   "cell_type": "code",
   "execution_count": 27,
   "id": "b098d436-ee42-41e7-a57d-4413d4a6d6b1",
   "metadata": {},
   "outputs": [
    {
     "data": {
      "text/plain": [
       "(local Package)\n",
       " └─test_data/\n",
       "   └─SSF211.fasta\n",
       "   └─annot.emapper.annotations\n",
       "   └─annot.emapper.hits\n",
       "   └─annot.emapper.seed_orthologs\n",
       "   └─annot.faa\n",
       "   └─annot.faa.diamond.csv\n",
       "   └─annot.faa.gff3\n",
       "   └─annot.faa.json\n",
       "   └─annot.faa.rgi.output.json\n",
       "   └─annot.faa.rgi.output.txt\n",
       "   └─annot.faa.tsv\n",
       "   └─annot.faa.xml\n",
       "   └─annot.fasta\n",
       "   └─annot.fna\n",
       "   └─annot.gbk\n",
       "   └─annot.gff\n",
       "   └─annot.sqn\n",
       "   └─annot/\n",
       "   └─annot_cds_from_genomic.fna\n",
       " ..."
      ]
     },
     "execution_count": 27,
     "metadata": {},
     "output_type": "execute_result"
    }
   ],
   "source": [
    "p = quilt3.Package()\n",
    "p.set_dir(quilt_package_fastq_path, local_fastq_directory_name)"
   ]
  },
  {
   "cell_type": "markdown",
   "id": "e5342c54-6878-4822-aeb4-48c196f82fd7",
   "metadata": {},
   "source": [
    "Append metadata to the package"
   ]
  },
  {
   "cell_type": "code",
   "execution_count": 29,
   "id": "fafa84e6-a1f4-43ef-ac78-3fa5c34d1225",
   "metadata": {},
   "outputs": [
    {
     "data": {
      "text/plain": [
       "(local Package)\n",
       " └─test_data/\n",
       "   └─SSF211.fasta\n",
       "   └─annot.emapper.annotations\n",
       "   └─annot.emapper.hits\n",
       "   └─annot.emapper.seed_orthologs\n",
       "   └─annot.faa\n",
       "   └─annot.faa.diamond.csv\n",
       "   └─annot.faa.gff3\n",
       "   └─annot.faa.json\n",
       "   └─annot.faa.rgi.output.json\n",
       "   └─annot.faa.rgi.output.txt\n",
       "   └─annot.faa.tsv\n",
       "   └─annot.faa.xml\n",
       "   └─annot.fasta\n",
       "   └─annot.fna\n",
       "   └─annot.gbk\n",
       "   └─annot.gff\n",
       "   └─annot.sqn\n",
       "   └─annot/\n",
       "   └─annot_cds_from_genomic.fna\n",
       " ..."
      ]
     },
     "execution_count": 29,
     "metadata": {},
     "output_type": "execute_result"
    }
   ],
   "source": [
    "# Define metadata  \n",
    "metadata = {  \n",
    "    'description': 'This is a test package.',  \n",
    "    'uploaded_by': 'Alena Alekseeva',  \n",
    "    'owner': 'Alena Alekseeva',  \n",
    "    'date_of_upload': '2024-08-14',  \n",
    "    'project::project_name': 'testproject',\n",
    "    'project::project_id': '11452', \n",
    "    'sample::sample_name': 'SSF211', \n",
    "    'experiment::biological_experiment_type': 'NA sequencing', \n",
    "    'seqencing::sequencing_experiment_type': 'Whole Genome', \n",
    "    'seqencing::sequencing _technology': 'ONT MinION'\n",
    "}  \n",
    "  \n",
    "# Append metadata to the package  \n",
    "p.set_meta(metadata)  "
   ]
  },
  {
   "cell_type": "markdown",
   "id": "47b945fa-e5aa-4856-9f30-0cf03e7b2ce2",
   "metadata": {},
   "source": [
    "Push package to Quilt"
   ]
  },
  {
   "cell_type": "code",
   "execution_count": 31,
   "id": "be49f173-965e-4ae7-bc40-cfb4c8e576d1",
   "metadata": {},
   "outputs": [
    {
     "name": "stderr",
     "output_type": "stream",
     "text": [
      "Hashing: 100%|██████████| 2.95G/2.95G [00:02<00:00, 1.29GB/s]\n",
      "Copying objects: 100%|██████████| 2.95G/2.95G [03:32<00:00, 13.9MB/s]    \n"
     ]
    },
    {
     "name": "stdout",
     "output_type": "stream",
     "text": [
      "Package alenaalekseeva/experiment_2@b6961ec pushed to s3://bioinformatics-quilt-poc\n",
      "Successfully pushed the new package to https://quiltpoc.ecicl.cloud.syngenta.org/b/bioinformatics-quilt-poc/packages/alenaalekseeva/experiment_2\n"
     ]
    },
    {
     "data": {
      "text/plain": [
       "(remote Package)\n",
       " └─test_data/\n",
       "   └─SSF211.fasta\n",
       "   └─annot.emapper.annotations\n",
       "   └─annot.emapper.hits\n",
       "   └─annot.emapper.seed_orthologs\n",
       "   └─annot.faa\n",
       "   └─annot.faa.diamond.csv\n",
       "   └─annot.faa.gff3\n",
       "   └─annot.faa.json\n",
       "   └─annot.faa.rgi.output.json\n",
       "   └─annot.faa.rgi.output.txt\n",
       "   └─annot.faa.tsv\n",
       "   └─annot.faa.xml\n",
       "   └─annot.fasta\n",
       "   └─annot.fna\n",
       "   └─annot.gbk\n",
       "   └─annot.gff\n",
       "   └─annot.sqn\n",
       "   └─annot/\n",
       "   └─annot_cds_from_genomic.fna\n",
       " ..."
      ]
     },
     "execution_count": 31,
     "metadata": {},
     "output_type": "execute_result"
    }
   ],
   "source": [
    "#p.build(package_name) \n",
    "p.push(quilt_package_name, registry=s3_bucket, message=\"Upload new SSF2111 data\") "
   ]
  },
  {
   "cell_type": "markdown",
   "id": "036f224f-b2ec-4f49-aa33-8c5881eea584",
   "metadata": {},
   "source": [
    "# 3. Adding Data to Existing Packag"
   ]
  },
  {
   "cell_type": "markdown",
   "id": "474940f4-c079-4295-823a-90ee838a8386",
   "metadata": {},
   "source": [
    "Creating a reference to the existing Quilt packagee"
   ]
  },
  {
   "cell_type": "code",
   "execution_count": 46,
   "id": "ed70c3c7",
   "metadata": {},
   "outputs": [
    {
     "name": "stderr",
     "output_type": "stream",
     "text": [
      "Downloading manifest: 100%|██████████| 21.7k/21.7k [00:01<00:00, 17.3kB/s]\n",
      "Loading manifest: 100%|██████████| 57/57 [00:00<00:00, 28.5k/s]\n",
      "Copying objects: 100%|██████████| 70.0M/70.0M [00:11<00:00, 5.86MB/s]\n"
     ]
    },
    {
     "name": "stdout",
     "output_type": "stream",
     "text": [
      "Successfully installed package 'stanislavzhurich/experiment_1', tophash=33f634e from s3://bioinformatics-quilt-poc\n"
     ]
    },
    {
     "name": "stderr",
     "output_type": "stream",
     "text": [
      "Loading manifest: 100%|██████████| 57/57 [00:00<00:00, 28.6k/s]\n"
     ]
    }
   ],
   "source": [
    "quilt3.Package.install(quilt_package_name, s3_bucket) \n",
    "p = quilt3.Package.browse(quilt_package_name)"
   ]
  },
  {
   "cell_type": "markdown",
   "id": "e64ec796-f8fb-4ba5-97c4-ae9a79f754a5",
   "metadata": {},
   "source": [
    "List existing files in the package"
   ]
  },
  {
   "cell_type": "code",
   "execution_count": 47,
   "id": "c086d752-f7fb-4ab5-ab90-e0801720026a",
   "metadata": {},
   "outputs": [
    {
     "name": "stdout",
     "output_type": "stream",
     "text": [
      "Path: fastq_data/barcode01/FAY94205_pass_barcode01_8c8775d2_abfa6b24_0.fastq.gz, Entry: PackageEntry('s3://bioinformatics-quilt-poc/stanislavzhurich/experiment_1/fastq_data/barcode01/FAY94205_pass_barcode01_8c8775d2_abfa6b24_0.fastq.gz')\n",
      "Path: fastq_data/barcode01/FAY94205_pass_barcode01_8c8775d2_abfa6b24_1.fastq.gz, Entry: PackageEntry('s3://bioinformatics-quilt-poc/stanislavzhurich/experiment_1/fastq_data/barcode01/FAY94205_pass_barcode01_8c8775d2_abfa6b24_1.fastq.gz')\n",
      "Path: fastq_data/barcode01/FAY94205_pass_barcode01_8c8775d2_abfa6b24_10.fastq.gz, Entry: PackageEntry('s3://bioinformatics-quilt-poc/stanislavzhurich/experiment_1/fastq_data/barcode01/FAY94205_pass_barcode01_8c8775d2_abfa6b24_10.fastq.gz')\n",
      "Path: fastq_data/barcode01/FAY94205_pass_barcode01_8c8775d2_abfa6b24_11.fastq.gz, Entry: PackageEntry('s3://bioinformatics-quilt-poc/stanislavzhurich/experiment_1/fastq_data/barcode01/FAY94205_pass_barcode01_8c8775d2_abfa6b24_11.fastq.gz')\n",
      "Path: fastq_data/barcode01/FAY94205_pass_barcode01_8c8775d2_abfa6b24_12.fastq.gz, Entry: PackageEntry('s3://bioinformatics-quilt-poc/stanislavzhurich/experiment_1/fastq_data/barcode01/FAY94205_pass_barcode01_8c8775d2_abfa6b24_12.fastq.gz')\n",
      "Path: fastq_data/barcode01/FAY94205_pass_barcode01_8c8775d2_abfa6b24_13.fastq.gz, Entry: PackageEntry('s3://bioinformatics-quilt-poc/stanislavzhurich/experiment_1/fastq_data/barcode01/FAY94205_pass_barcode01_8c8775d2_abfa6b24_13.fastq.gz')\n",
      "Path: fastq_data/barcode01/FAY94205_pass_barcode01_8c8775d2_abfa6b24_14.fastq.gz, Entry: PackageEntry('s3://bioinformatics-quilt-poc/stanislavzhurich/experiment_1/fastq_data/barcode01/FAY94205_pass_barcode01_8c8775d2_abfa6b24_14.fastq.gz')\n",
      "Path: fastq_data/barcode01/FAY94205_pass_barcode01_8c8775d2_abfa6b24_15.fastq.gz, Entry: PackageEntry('s3://bioinformatics-quilt-poc/stanislavzhurich/experiment_1/fastq_data/barcode01/FAY94205_pass_barcode01_8c8775d2_abfa6b24_15.fastq.gz')\n",
      "Path: fastq_data/barcode01/FAY94205_pass_barcode01_8c8775d2_abfa6b24_16.fastq.gz, Entry: PackageEntry('s3://bioinformatics-quilt-poc/stanislavzhurich/experiment_1/fastq_data/barcode01/FAY94205_pass_barcode01_8c8775d2_abfa6b24_16.fastq.gz')\n",
      "Path: fastq_data/barcode01/FAY94205_pass_barcode01_8c8775d2_abfa6b24_17.fastq.gz, Entry: PackageEntry('s3://bioinformatics-quilt-poc/stanislavzhurich/experiment_1/fastq_data/barcode01/FAY94205_pass_barcode01_8c8775d2_abfa6b24_17.fastq.gz')\n",
      "Path: fastq_data/barcode01/FAY94205_pass_barcode01_8c8775d2_abfa6b24_18.fastq.gz, Entry: PackageEntry('s3://bioinformatics-quilt-poc/stanislavzhurich/experiment_1/fastq_data/barcode01/FAY94205_pass_barcode01_8c8775d2_abfa6b24_18.fastq.gz')\n",
      "Path: fastq_data/barcode01/FAY94205_pass_barcode01_8c8775d2_abfa6b24_19.fastq.gz, Entry: PackageEntry('s3://bioinformatics-quilt-poc/stanislavzhurich/experiment_1/fastq_data/barcode01/FAY94205_pass_barcode01_8c8775d2_abfa6b24_19.fastq.gz')\n",
      "Path: fastq_data/barcode01/FAY94205_pass_barcode01_8c8775d2_abfa6b24_2.fastq.gz, Entry: PackageEntry('s3://bioinformatics-quilt-poc/stanislavzhurich/experiment_1/fastq_data/barcode01/FAY94205_pass_barcode01_8c8775d2_abfa6b24_2.fastq.gz')\n",
      "Path: fastq_data/barcode01/FAY94205_pass_barcode01_8c8775d2_abfa6b24_20.fastq.gz, Entry: PackageEntry('s3://bioinformatics-quilt-poc/stanislavzhurich/experiment_1/fastq_data/barcode01/FAY94205_pass_barcode01_8c8775d2_abfa6b24_20.fastq.gz')\n",
      "Path: fastq_data/barcode01/FAY94205_pass_barcode01_8c8775d2_abfa6b24_21.fastq.gz, Entry: PackageEntry('s3://bioinformatics-quilt-poc/stanislavzhurich/experiment_1/fastq_data/barcode01/FAY94205_pass_barcode01_8c8775d2_abfa6b24_21.fastq.gz')\n",
      "Path: fastq_data/barcode01/FAY94205_pass_barcode01_8c8775d2_abfa6b24_22.fastq.gz, Entry: PackageEntry('s3://bioinformatics-quilt-poc/stanislavzhurich/experiment_1/fastq_data/barcode01/FAY94205_pass_barcode01_8c8775d2_abfa6b24_22.fastq.gz')\n",
      "Path: fastq_data/barcode01/FAY94205_pass_barcode01_8c8775d2_abfa6b24_23.fastq.gz, Entry: PackageEntry('s3://bioinformatics-quilt-poc/stanislavzhurich/experiment_1/fastq_data/barcode01/FAY94205_pass_barcode01_8c8775d2_abfa6b24_23.fastq.gz')\n",
      "Path: fastq_data/barcode01/FAY94205_pass_barcode01_8c8775d2_abfa6b24_24.fastq.gz, Entry: PackageEntry('s3://bioinformatics-quilt-poc/stanislavzhurich/experiment_1/fastq_data/barcode01/FAY94205_pass_barcode01_8c8775d2_abfa6b24_24.fastq.gz')\n",
      "Path: fastq_data/barcode01/FAY94205_pass_barcode01_8c8775d2_abfa6b24_25.fastq.gz, Entry: PackageEntry('s3://bioinformatics-quilt-poc/stanislavzhurich/experiment_1/fastq_data/barcode01/FAY94205_pass_barcode01_8c8775d2_abfa6b24_25.fastq.gz')\n",
      "Path: fastq_data/barcode01/FAY94205_pass_barcode01_8c8775d2_abfa6b24_26.fastq.gz, Entry: PackageEntry('s3://bioinformatics-quilt-poc/stanislavzhurich/experiment_1/fastq_data/barcode01/FAY94205_pass_barcode01_8c8775d2_abfa6b24_26.fastq.gz')\n",
      "Path: fastq_data/barcode01/FAY94205_pass_barcode01_8c8775d2_abfa6b24_27.fastq.gz, Entry: PackageEntry('s3://bioinformatics-quilt-poc/stanislavzhurich/experiment_1/fastq_data/barcode01/FAY94205_pass_barcode01_8c8775d2_abfa6b24_27.fastq.gz')\n",
      "Path: fastq_data/barcode01/FAY94205_pass_barcode01_8c8775d2_abfa6b24_3.fastq.gz, Entry: PackageEntry('s3://bioinformatics-quilt-poc/stanislavzhurich/experiment_1/fastq_data/barcode01/FAY94205_pass_barcode01_8c8775d2_abfa6b24_3.fastq.gz')\n",
      "Path: fastq_data/barcode01/FAY94205_pass_barcode01_8c8775d2_abfa6b24_4.fastq.gz, Entry: PackageEntry('s3://bioinformatics-quilt-poc/stanislavzhurich/experiment_1/fastq_data/barcode01/FAY94205_pass_barcode01_8c8775d2_abfa6b24_4.fastq.gz')\n",
      "Path: fastq_data/barcode01/FAY94205_pass_barcode01_8c8775d2_abfa6b24_5.fastq.gz, Entry: PackageEntry('s3://bioinformatics-quilt-poc/stanislavzhurich/experiment_1/fastq_data/barcode01/FAY94205_pass_barcode01_8c8775d2_abfa6b24_5.fastq.gz')\n",
      "Path: fastq_data/barcode01/FAY94205_pass_barcode01_8c8775d2_abfa6b24_6.fastq.gz, Entry: PackageEntry('s3://bioinformatics-quilt-poc/stanislavzhurich/experiment_1/fastq_data/barcode01/FAY94205_pass_barcode01_8c8775d2_abfa6b24_6.fastq.gz')\n",
      "Path: fastq_data/barcode01/FAY94205_pass_barcode01_8c8775d2_abfa6b24_7.fastq.gz, Entry: PackageEntry('s3://bioinformatics-quilt-poc/stanislavzhurich/experiment_1/fastq_data/barcode01/FAY94205_pass_barcode01_8c8775d2_abfa6b24_7.fastq.gz')\n",
      "Path: fastq_data/barcode01/FAY94205_pass_barcode01_8c8775d2_abfa6b24_8.fastq.gz, Entry: PackageEntry('s3://bioinformatics-quilt-poc/stanislavzhurich/experiment_1/fastq_data/barcode01/FAY94205_pass_barcode01_8c8775d2_abfa6b24_8.fastq.gz')\n",
      "Path: fastq_data/barcode01/FAY94205_pass_barcode01_8c8775d2_abfa6b24_9.fastq.gz, Entry: PackageEntry('s3://bioinformatics-quilt-poc/stanislavzhurich/experiment_1/fastq_data/barcode01/FAY94205_pass_barcode01_8c8775d2_abfa6b24_9.fastq.gz')\n",
      "Path: fastq_data/barcode02/FAY94205_pass_barcode02_8c8775d2_abfa6b24_0.fastq.gz, Entry: PackageEntry('s3://bioinformatics-quilt-poc/stanislavzhurich/experiment_1/fastq_data/barcode02/FAY94205_pass_barcode02_8c8775d2_abfa6b24_0.fastq.gz')\n",
      "Path: fastq_data/barcode02/FAY94205_pass_barcode02_8c8775d2_abfa6b24_1.fastq.gz, Entry: PackageEntry('s3://bioinformatics-quilt-poc/stanislavzhurich/experiment_1/fastq_data/barcode02/FAY94205_pass_barcode02_8c8775d2_abfa6b24_1.fastq.gz')\n",
      "Path: fastq_data/barcode02/FAY94205_pass_barcode02_8c8775d2_abfa6b24_10.fastq.gz, Entry: PackageEntry('s3://bioinformatics-quilt-poc/stanislavzhurich/experiment_1/fastq_data/barcode02/FAY94205_pass_barcode02_8c8775d2_abfa6b24_10.fastq.gz')\n",
      "Path: fastq_data/barcode02/FAY94205_pass_barcode02_8c8775d2_abfa6b24_11.fastq.gz, Entry: PackageEntry('s3://bioinformatics-quilt-poc/stanislavzhurich/experiment_1/fastq_data/barcode02/FAY94205_pass_barcode02_8c8775d2_abfa6b24_11.fastq.gz')\n",
      "Path: fastq_data/barcode02/FAY94205_pass_barcode02_8c8775d2_abfa6b24_12.fastq.gz, Entry: PackageEntry('s3://bioinformatics-quilt-poc/stanislavzhurich/experiment_1/fastq_data/barcode02/FAY94205_pass_barcode02_8c8775d2_abfa6b24_12.fastq.gz')\n",
      "Path: fastq_data/barcode02/FAY94205_pass_barcode02_8c8775d2_abfa6b24_13.fastq.gz, Entry: PackageEntry('s3://bioinformatics-quilt-poc/stanislavzhurich/experiment_1/fastq_data/barcode02/FAY94205_pass_barcode02_8c8775d2_abfa6b24_13.fastq.gz')\n",
      "Path: fastq_data/barcode02/FAY94205_pass_barcode02_8c8775d2_abfa6b24_14.fastq.gz, Entry: PackageEntry('s3://bioinformatics-quilt-poc/stanislavzhurich/experiment_1/fastq_data/barcode02/FAY94205_pass_barcode02_8c8775d2_abfa6b24_14.fastq.gz')\n",
      "Path: fastq_data/barcode02/FAY94205_pass_barcode02_8c8775d2_abfa6b24_15.fastq.gz, Entry: PackageEntry('s3://bioinformatics-quilt-poc/stanislavzhurich/experiment_1/fastq_data/barcode02/FAY94205_pass_barcode02_8c8775d2_abfa6b24_15.fastq.gz')\n",
      "Path: fastq_data/barcode02/FAY94205_pass_barcode02_8c8775d2_abfa6b24_16.fastq.gz, Entry: PackageEntry('s3://bioinformatics-quilt-poc/stanislavzhurich/experiment_1/fastq_data/barcode02/FAY94205_pass_barcode02_8c8775d2_abfa6b24_16.fastq.gz')\n",
      "Path: fastq_data/barcode02/FAY94205_pass_barcode02_8c8775d2_abfa6b24_17.fastq.gz, Entry: PackageEntry('s3://bioinformatics-quilt-poc/stanislavzhurich/experiment_1/fastq_data/barcode02/FAY94205_pass_barcode02_8c8775d2_abfa6b24_17.fastq.gz')\n",
      "Path: fastq_data/barcode02/FAY94205_pass_barcode02_8c8775d2_abfa6b24_18.fastq.gz, Entry: PackageEntry('s3://bioinformatics-quilt-poc/stanislavzhurich/experiment_1/fastq_data/barcode02/FAY94205_pass_barcode02_8c8775d2_abfa6b24_18.fastq.gz')\n",
      "Path: fastq_data/barcode02/FAY94205_pass_barcode02_8c8775d2_abfa6b24_19.fastq.gz, Entry: PackageEntry('s3://bioinformatics-quilt-poc/stanislavzhurich/experiment_1/fastq_data/barcode02/FAY94205_pass_barcode02_8c8775d2_abfa6b24_19.fastq.gz')\n",
      "Path: fastq_data/barcode02/FAY94205_pass_barcode02_8c8775d2_abfa6b24_2.fastq.gz, Entry: PackageEntry('s3://bioinformatics-quilt-poc/stanislavzhurich/experiment_1/fastq_data/barcode02/FAY94205_pass_barcode02_8c8775d2_abfa6b24_2.fastq.gz')\n",
      "Path: fastq_data/barcode02/FAY94205_pass_barcode02_8c8775d2_abfa6b24_20.fastq.gz, Entry: PackageEntry('s3://bioinformatics-quilt-poc/stanislavzhurich/experiment_1/fastq_data/barcode02/FAY94205_pass_barcode02_8c8775d2_abfa6b24_20.fastq.gz')\n",
      "Path: fastq_data/barcode02/FAY94205_pass_barcode02_8c8775d2_abfa6b24_21.fastq.gz, Entry: PackageEntry('s3://bioinformatics-quilt-poc/stanislavzhurich/experiment_1/fastq_data/barcode02/FAY94205_pass_barcode02_8c8775d2_abfa6b24_21.fastq.gz')\n",
      "Path: fastq_data/barcode02/FAY94205_pass_barcode02_8c8775d2_abfa6b24_22.fastq.gz, Entry: PackageEntry('s3://bioinformatics-quilt-poc/stanislavzhurich/experiment_1/fastq_data/barcode02/FAY94205_pass_barcode02_8c8775d2_abfa6b24_22.fastq.gz')\n",
      "Path: fastq_data/barcode02/FAY94205_pass_barcode02_8c8775d2_abfa6b24_23.fastq.gz, Entry: PackageEntry('s3://bioinformatics-quilt-poc/stanislavzhurich/experiment_1/fastq_data/barcode02/FAY94205_pass_barcode02_8c8775d2_abfa6b24_23.fastq.gz')\n",
      "Path: fastq_data/barcode02/FAY94205_pass_barcode02_8c8775d2_abfa6b24_24.fastq.gz, Entry: PackageEntry('s3://bioinformatics-quilt-poc/stanislavzhurich/experiment_1/fastq_data/barcode02/FAY94205_pass_barcode02_8c8775d2_abfa6b24_24.fastq.gz')\n",
      "Path: fastq_data/barcode02/FAY94205_pass_barcode02_8c8775d2_abfa6b24_25.fastq.gz, Entry: PackageEntry('s3://bioinformatics-quilt-poc/stanislavzhurich/experiment_1/fastq_data/barcode02/FAY94205_pass_barcode02_8c8775d2_abfa6b24_25.fastq.gz')\n",
      "Path: fastq_data/barcode02/FAY94205_pass_barcode02_8c8775d2_abfa6b24_26.fastq.gz, Entry: PackageEntry('s3://bioinformatics-quilt-poc/stanislavzhurich/experiment_1/fastq_data/barcode02/FAY94205_pass_barcode02_8c8775d2_abfa6b24_26.fastq.gz')\n",
      "Path: fastq_data/barcode02/FAY94205_pass_barcode02_8c8775d2_abfa6b24_27.fastq.gz, Entry: PackageEntry('s3://bioinformatics-quilt-poc/stanislavzhurich/experiment_1/fastq_data/barcode02/FAY94205_pass_barcode02_8c8775d2_abfa6b24_27.fastq.gz')\n",
      "Path: fastq_data/barcode02/FAY94205_pass_barcode02_8c8775d2_abfa6b24_3.fastq.gz, Entry: PackageEntry('s3://bioinformatics-quilt-poc/stanislavzhurich/experiment_1/fastq_data/barcode02/FAY94205_pass_barcode02_8c8775d2_abfa6b24_3.fastq.gz')\n",
      "Path: fastq_data/barcode02/FAY94205_pass_barcode02_8c8775d2_abfa6b24_4.fastq.gz, Entry: PackageEntry('s3://bioinformatics-quilt-poc/stanislavzhurich/experiment_1/fastq_data/barcode02/FAY94205_pass_barcode02_8c8775d2_abfa6b24_4.fastq.gz')\n",
      "Path: fastq_data/barcode02/FAY94205_pass_barcode02_8c8775d2_abfa6b24_5.fastq.gz, Entry: PackageEntry('s3://bioinformatics-quilt-poc/stanislavzhurich/experiment_1/fastq_data/barcode02/FAY94205_pass_barcode02_8c8775d2_abfa6b24_5.fastq.gz')\n",
      "Path: fastq_data/barcode02/FAY94205_pass_barcode02_8c8775d2_abfa6b24_6.fastq.gz, Entry: PackageEntry('s3://bioinformatics-quilt-poc/stanislavzhurich/experiment_1/fastq_data/barcode02/FAY94205_pass_barcode02_8c8775d2_abfa6b24_6.fastq.gz')\n",
      "Path: fastq_data/barcode02/FAY94205_pass_barcode02_8c8775d2_abfa6b24_7.fastq.gz, Entry: PackageEntry('s3://bioinformatics-quilt-poc/stanislavzhurich/experiment_1/fastq_data/barcode02/FAY94205_pass_barcode02_8c8775d2_abfa6b24_7.fastq.gz')\n",
      "Path: fastq_data/barcode02/FAY94205_pass_barcode02_8c8775d2_abfa6b24_8.fastq.gz, Entry: PackageEntry('s3://bioinformatics-quilt-poc/stanislavzhurich/experiment_1/fastq_data/barcode02/FAY94205_pass_barcode02_8c8775d2_abfa6b24_8.fastq.gz')\n",
      "Path: fastq_data/barcode02/FAY94205_pass_barcode02_8c8775d2_abfa6b24_9.fastq.gz, Entry: PackageEntry('s3://bioinformatics-quilt-poc/stanislavzhurich/experiment_1/fastq_data/barcode02/FAY94205_pass_barcode02_8c8775d2_abfa6b24_9.fastq.gz')\n"
     ]
    }
   ],
   "source": [
    "for path, entry in p.walk():  \n",
    "    print(f\"Path: {path}, Entry: {entry}\") "
   ]
  },
  {
   "cell_type": "markdown",
   "id": "870f2ac1-ef2c-4f0a-ac77-619c60c10015",
   "metadata": {},
   "source": [
    "Adding new file to existing package"
   ]
  },
  {
   "cell_type": "code",
   "execution_count": 48,
   "id": "c06a851f-4b44-471e-a82d-7a75a968a4e7",
   "metadata": {},
   "outputs": [
    {
     "data": {
      "text/plain": [
       "(remote Package)\n",
       " └─fastq_data/\n",
       "   └─barcode01/\n",
       "     └─FAY94205_pass_barcode01_8c8775d2_abfa6b24_0.fastq.gz\n",
       "     └─FAY94205_pass_barcode01_8c8775d2_abfa6b24_1.fastq.gz\n",
       "     └─FAY94205_pass_barcode01_8c8775d2_abfa6b24_10.fastq.gz\n",
       "     └─FAY94205_pass_barcode01_8c8775d2_abfa6b24_11.fastq.gz\n",
       "     └─FAY94205_pass_barcode01_8c8775d2_abfa6b24_12.fastq.gz\n",
       "     └─FAY94205_pass_barcode01_8c8775d2_abfa6b24_13.fastq.gz\n",
       "     └─FAY94205_pass_barcode01_8c8775d2_abfa6b24_14.fastq.gz\n",
       "     └─FAY94205_pass_barcode01_8c8775d2_abfa6b24_15.fastq.gz\n",
       "     └─FAY94205_pass_barcode01_8c8775d2_abfa6b24_16.fastq.gz\n",
       "     └─FAY94205_pass_barcode01_8c8775d2_abfa6b24_17.fastq.gz\n",
       "     └─FAY94205_pass_barcode01_8c8775d2_abfa6b24_18.fastq.gz\n",
       "     └─FAY94205_pass_barcode01_8c8775d2_abfa6b24_19.fastq.gz\n",
       "     └─FAY94205_pass_barcode01_8c8775d2_abfa6b24_2.fastq.gz\n",
       "     └─FAY94205_pass_barcode01_8c8775d2_abfa6b24_20.fastq.gz\n",
       "     └─FAY94205_pass_barcode01_8c8775d2_abfa6b24_21.fastq.gz\n",
       "     └─FAY94205_pass_barcode01_8c8775d2_abfa6b24_22.fastq.gz\n",
       "   └─barcode02/\n",
       " └─sample_sheet_data\n",
       " ..."
      ]
     },
     "execution_count": 48,
     "metadata": {},
     "output_type": "execute_result"
    }
   ],
   "source": [
    "p.set(quilt_package_samplesheet_path, local_samplesheet_file_name)"
   ]
  },
  {
   "cell_type": "markdown",
   "id": "c7dd940a-517e-4945-bf02-6d2f19f766b8",
   "metadata": {},
   "source": [
    "Storing sample sheet to Quilt"
   ]
  },
  {
   "cell_type": "code",
   "execution_count": 49,
   "id": "501aad9b",
   "metadata": {},
   "outputs": [
    {
     "name": "stderr",
     "output_type": "stream",
     "text": [
      "Hashing: 100%|██████████| 401/401 [00:00<00:00, 200kB/s]\n",
      "Copying objects: 100%|██████████| 401/401 [00:01<00:00, 280B/s]\n"
     ]
    },
    {
     "name": "stdout",
     "output_type": "stream",
     "text": [
      "Package stanislavzhurich/experiment_1@51cdbdd pushed to s3://bioinformatics-quilt-poc\n",
      "Successfully pushed the new package to https://quiltpoc.ecicl.cloud.syngenta.org/b/bioinformatics-quilt-poc/packages/stanislavzhurich/experiment_1\n"
     ]
    },
    {
     "data": {
      "text/plain": [
       "(remote Package)\n",
       " └─fastq_data/\n",
       "   └─barcode01/\n",
       "     └─FAY94205_pass_barcode01_8c8775d2_abfa6b24_0.fastq.gz\n",
       "     └─FAY94205_pass_barcode01_8c8775d2_abfa6b24_1.fastq.gz\n",
       "     └─FAY94205_pass_barcode01_8c8775d2_abfa6b24_10.fastq.gz\n",
       "     └─FAY94205_pass_barcode01_8c8775d2_abfa6b24_11.fastq.gz\n",
       "     └─FAY94205_pass_barcode01_8c8775d2_abfa6b24_12.fastq.gz\n",
       "     └─FAY94205_pass_barcode01_8c8775d2_abfa6b24_13.fastq.gz\n",
       "     └─FAY94205_pass_barcode01_8c8775d2_abfa6b24_14.fastq.gz\n",
       "     └─FAY94205_pass_barcode01_8c8775d2_abfa6b24_15.fastq.gz\n",
       "     └─FAY94205_pass_barcode01_8c8775d2_abfa6b24_16.fastq.gz\n",
       "     └─FAY94205_pass_barcode01_8c8775d2_abfa6b24_17.fastq.gz\n",
       "     └─FAY94205_pass_barcode01_8c8775d2_abfa6b24_18.fastq.gz\n",
       "     └─FAY94205_pass_barcode01_8c8775d2_abfa6b24_19.fastq.gz\n",
       "     └─FAY94205_pass_barcode01_8c8775d2_abfa6b24_2.fastq.gz\n",
       "     └─FAY94205_pass_barcode01_8c8775d2_abfa6b24_20.fastq.gz\n",
       "     └─FAY94205_pass_barcode01_8c8775d2_abfa6b24_21.fastq.gz\n",
       "     └─FAY94205_pass_barcode01_8c8775d2_abfa6b24_22.fastq.gz\n",
       "   └─barcode02/\n",
       " └─sample_sheet_data\n",
       " ..."
      ]
     },
     "execution_count": 49,
     "metadata": {},
     "output_type": "execute_result"
    }
   ],
   "source": [
    "p.push(quilt_package_name, registry=s3_bucket, message=\"Upload sample sheet file\") "
   ]
  },
  {
   "cell_type": "markdown",
   "id": "86d8716d-ed73-4115-8332-eed9093af3d4",
   "metadata": {},
   "source": [
    "# 4.Delete Package"
   ]
  },
  {
   "cell_type": "code",
   "execution_count": 40,
   "id": "be00925a-76ca-41b5-93d5-b8f14631780f",
   "metadata": {},
   "outputs": [],
   "source": [
    " quilt3.delete_package(quilt_package_name, s3_bucket) "
   ]
  },
  {
   "cell_type": "code",
   "execution_count": null,
   "id": "7d1984ba-591e-4642-b101-6356742e5f7c",
   "metadata": {},
   "outputs": [],
   "source": []
  }
 ],
 "metadata": {
  "kernelspec": {
   "display_name": "Python 3 (ipykernel)",
   "language": "python",
   "name": "python3"
  },
  "language_info": {
   "codemirror_mode": {
    "name": "ipython",
    "version": 3
   },
   "file_extension": ".py",
   "mimetype": "text/x-python",
   "name": "python",
   "nbconvert_exporter": "python",
   "pygments_lexer": "ipython3",
   "version": "3.12.4"
  }
 },
 "nbformat": 4,
 "nbformat_minor": 5
}
